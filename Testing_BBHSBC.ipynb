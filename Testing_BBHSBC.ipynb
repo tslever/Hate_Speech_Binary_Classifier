{
 "cells": [
  {
   "cell_type": "markdown",
   "id": "a2f0373a-b138-456a-a700-8313516b53a0",
   "metadata": {},
   "source": [
    "# Testing BERT Based Hate Speech Binary Classifier"
   ]
  },
  {
   "cell_type": "code",
   "execution_count": 1,
   "id": "0d6e22bc-a666-4bb8-9e25-cb859fa6c8ad",
   "metadata": {
    "tags": []
   },
   "outputs": [
    {
     "data": {
      "application/vnd.jupyter.widget-view+json": {
       "model_id": "7b57ec33344241759cc2145f61451c4a",
       "version_major": 2,
       "version_minor": 0
      },
      "text/plain": [
       "Tokenizing:   0%|          | 0/63134 [00:00<?, ?it/s]"
      ]
     },
     "metadata": {},
     "output_type": "display_data"
    }
   ],
   "source": [
    "from tqdm.auto import tqdm\n",
    "import pandas as pd\n",
    "import torch\n",
    "from torch.utils.data import DataLoader, Dataset\n",
    "from transformers import AutoTokenizer, AutoModelForSequenceClassification\n",
    "\n",
    "file_path = 'df_2020C_07_01_to_02_testdata.feather'\n",
    "data_frame = pd.read_feather(file_path)\n",
    "model_path = \"./training_output/checkpoint-14000\"\n",
    "device = torch.device(\"cuda\" if torch.cuda.is_available() else \"cpu\")\n",
    "tokenizer = AutoTokenizer.from_pretrained('bert-base-uncased')\n",
    "model = AutoModelForSequenceClassification.from_pretrained(model_path, num_labels = 2)\n",
    "model.to(device)\n",
    "model.eval()\n",
    "\n",
    "def tokenize_function(examples):\n",
    "    return tokenizer(examples, padding = 'max_length', truncation = True, max_length = 128)\n",
    "\n",
    "chunk_size = 100\n",
    "texts = data_frame['body'].astype(str).tolist()\n",
    "tokenized_inputs = {'input_ids': [], 'attention_mask': []}\n",
    "for i in tqdm(range(0, len(texts), chunk_size), desc=\"Tokenizing\"):\n",
    "    chunk_texts = texts[i:i + chunk_size]\n",
    "    chunk_tokenized = tokenize_function(chunk_texts)\n",
    "    tokenized_inputs['input_ids'].extend(chunk_tokenized['input_ids'])\n",
    "    tokenized_inputs['attention_mask'].extend(chunk_tokenized['attention_mask'])"
   ]
  },
  {
   "cell_type": "code",
   "execution_count": null,
   "id": "a99f335a-f620-40b7-861e-1df638e4068e",
   "metadata": {
    "tags": []
   },
   "outputs": [
    {
     "data": {
      "application/vnd.jupyter.widget-view+json": {
       "model_id": "6078727f3b5d4eeeb08aa3832473c347",
       "version_major": 2,
       "version_minor": 0
      },
      "text/plain": [
       "Predicting:   0%|          | 0/197293 [00:00<?, ?it/s]"
      ]
     },
     "metadata": {},
     "output_type": "display_data"
    }
   ],
   "source": [
    "class PredictionDataset(Dataset):\n",
    "\n",
    "    def __init__(self, encodings):\n",
    "        self.encodings = {key: torch.tensor(val).to(device).detach() for key, val in encodings.items()}\n",
    "\n",
    "    def __getitem__(self, idx):\n",
    "        if isinstance(idx, int):\n",
    "            return {key: val[idx].clone().detach() for key, val in self.encodings.items()}\n",
    "        elif isinstance(idx, list):\n",
    "            return {key: torch.stack([val[i].clone().detach() for i in idx]) for key, val in self.encodings.items()}\n",
    "        else:\n",
    "            raise TypeError(f\"Unsupported index type: {type(idx)}\")\n",
    "\n",
    "    def __len__(self):\n",
    "        return len(self.encodings['input_ids'])\n",
    "\n",
    "pred_dataset = PredictionDataset(tokenized_inputs)\n",
    "pred_dataloader = DataLoader(pred_dataset, batch_size = 32, shuffle = False)\n",
    "predictions = []\n",
    "for batch in tqdm(pred_dataloader, desc=\"Predicting\"):\n",
    "    batch = {k: v.clone().detach().to(device) for k, v in batch.items()}\n",
    "    with torch.no_grad():\n",
    "        outputs = model(**batch)\n",
    "    threshold = 0.33\n",
    "    softmax_scores = torch.nn.functional.softmax(outputs.logits.clone().detach(), dim = -1).cpu().numpy()\n",
    "    preds = (softmax_scores[:, 1] >= threshold).astype(int)\n",
    "    predictions.extend(preds.tolist())\n",
    "    \n",
    "data_frame['predicted_label'] = predictions\n",
    "data_frame.to_csv('Data_Frame_Of_Texts_And_Predictions_By_BBHSBC_For_2020-07-01_To_2020-07-02.csv', index = False)"
   ]
  },
  {
   "cell_type": "code",
   "execution_count": null,
   "id": "1312e0f7-1652-460e-97c3-fece3c8bfb59",
   "metadata": {
    "tags": []
   },
   "outputs": [],
   "source": [
    "data_frame.shape"
   ]
  },
  {
   "cell_type": "code",
   "execution_count": null,
   "id": "652eaefc-8a13-44fc-8dc9-1e58d3ecfb11",
   "metadata": {
    "tags": []
   },
   "outputs": [],
   "source": [
    "data_frame.columns"
   ]
  },
  {
   "cell_type": "code",
   "execution_count": null,
   "id": "8473f7ca-48f0-44bb-8e28-2bda388c8dff",
   "metadata": {
    "tags": []
   },
   "outputs": [],
   "source": [
    "data_frame.head()"
   ]
  },
  {
   "cell_type": "code",
   "execution_count": null,
   "id": "3ad4dd3f-914d-4455-a6a5-2d5114cbc6ff",
   "metadata": {},
   "outputs": [],
   "source": []
  }
 ],
 "metadata": {
  "kernelspec": {
   "display_name": "PyTorch 2.0.1",
   "language": "python",
   "name": "pytorch-2.0.1"
  },
  "language_info": {
   "codemirror_mode": {
    "name": "ipython",
    "version": 3
   },
   "file_extension": ".py",
   "mimetype": "text/x-python",
   "name": "python",
   "nbconvert_exporter": "python",
   "pygments_lexer": "ipython3",
   "version": "3.10.12"
  }
 },
 "nbformat": 4,
 "nbformat_minor": 5
}

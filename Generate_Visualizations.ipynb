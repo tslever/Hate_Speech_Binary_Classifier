{
 "cells": [
  {
   "cell_type": "markdown",
   "id": "a1b2aadf-0231-43d6-9318-e6ce2aab935d",
   "metadata": {
    "tags": []
   },
   "source": [
    "## Setup\n",
    "\n",
    "* Load libraries\n",
    "* Import the four before/after files\n",
    "* Check length "
   ]
  },
  {
   "cell_type": "code",
   "execution_count": null,
   "id": "2c4bd78f-b66c-4a8d-8ca0-5bf8caec67a1",
   "metadata": {
    "editable": true,
    "slideshow": {
     "slide_type": ""
    },
    "tags": []
   },
   "outputs": [],
   "source": [
    "import matplotlib.pyplot as plt\n",
    "from PIL import Image\n",
    "from wordcloud import WordCloud\n",
    "import pandas as pd\n",
    "import numpy as np\n",
    "import seaborn as sns\n",
    "import time\n",
    "import networkx as nx"
   ]
  },
  {
   "cell_type": "markdown",
   "id": "120c1cf4-3306-4e08-ba24-aa57ae842d43",
   "metadata": {
    "jp-MarkdownHeadingCollapsed": true,
    "tags": []
   },
   "source": [
    "#### Import TinyBert Files"
   ]
  },
  {
   "cell_type": "code",
   "execution_count": null,
   "id": "125ed069-b965-4a87-a73b-d798c33a530b",
   "metadata": {
    "editable": true,
    "slideshow": {
     "slide_type": ""
    },
    "tags": []
   },
   "outputs": [],
   "source": [
    "#Load feather files \n",
    "file_path = 'after_policy_change.feather'\n",
    "# Read Feather file into DataFrame\n",
    "after_policy_change_imbal = pd.read_feather(file_path)"
   ]
  },
  {
   "cell_type": "code",
   "execution_count": null,
   "id": "9d06ff4c-02e2-4404-9cf5-f766539489b5",
   "metadata": {},
   "outputs": [],
   "source": [
    "# Matching imbal and bal length \n",
    "len(after_policy_change_imbal)"
   ]
  },
  {
   "cell_type": "code",
   "execution_count": null,
   "id": "dd06554a-47a7-4948-8f40-aed37a8db636",
   "metadata": {},
   "outputs": [],
   "source": [
    "unique_after_imbalsr =after_policy_change_imbal['subreddit'].nunique()\n",
    "unique_after_imbalsr"
   ]
  },
  {
   "cell_type": "code",
   "execution_count": null,
   "id": "5b2446fb-5ba3-4beb-bc47-053e471c71c5",
   "metadata": {},
   "outputs": [],
   "source": [
    "unique_after_imbalid =after_policy_change_imbal['subreddit_id'].nunique()\n",
    "unique_after_imbalid"
   ]
  },
  {
   "cell_type": "code",
   "execution_count": null,
   "id": "d00e31fe-d8f1-47be-9c0c-8e4a8adeb56d",
   "metadata": {},
   "outputs": [],
   "source": [
    "is_one_to_one = (after_policy_change_imbal.groupby('subreddit_id')['subreddit'].nunique() == 1).all()\n",
    "is_one_to_one"
   ]
  },
  {
   "cell_type": "code",
   "execution_count": null,
   "id": "6aeae34f-eee2-47d4-9101-fe3ab57d7575",
   "metadata": {
    "editable": true,
    "slideshow": {
     "slide_type": ""
    },
    "tags": []
   },
   "outputs": [],
   "source": [
    "#Load feather files \n",
    "file_path = 'after_policy_change_bal.feather'\n",
    "# Read Feather file into DataFrame\n",
    "after_policy_change_bal = pd.read_feather(file_path)"
   ]
  },
  {
   "cell_type": "code",
   "execution_count": null,
   "id": "a32c4e5f-a1b2-4934-8781-46a4aa6afe8b",
   "metadata": {},
   "outputs": [],
   "source": [
    "len(after_policy_change_bal)"
   ]
  },
  {
   "cell_type": "code",
   "execution_count": null,
   "id": "d96ae1d8-4317-471e-8261-2b03b7a427e9",
   "metadata": {},
   "outputs": [],
   "source": [
    "unique_after_balsr =after_policy_change_bal['subreddit'].nunique()\n",
    "unique_after_balsr"
   ]
  },
  {
   "cell_type": "code",
   "execution_count": null,
   "id": "3b8c7d78-64a1-4025-92bd-4a29649cd433",
   "metadata": {
    "editable": true,
    "slideshow": {
     "slide_type": ""
    },
    "tags": []
   },
   "outputs": [],
   "source": [
    "#Load feather files \n",
    "file_path = 'before_policy_change.feather'\n",
    "# Read Feather file into DataFrame\n",
    "before_policy_change_imbal = pd.read_feather(file_path)"
   ]
  },
  {
   "cell_type": "code",
   "execution_count": null,
   "id": "b6a8258f-72fb-41d4-a685-07184b691fee",
   "metadata": {},
   "outputs": [],
   "source": [
    "len(before_policy_change_imbal)"
   ]
  },
  {
   "cell_type": "code",
   "execution_count": null,
   "id": "2a6e68c3-3284-4ff0-b445-157fb5d45f19",
   "metadata": {},
   "outputs": [],
   "source": [
    "unique_count =before_policy_change_imbal['subreddit'].nunique()\n",
    "print(unique_count)"
   ]
  },
  {
   "cell_type": "code",
   "execution_count": null,
   "id": "52e5c235-2518-404d-9f68-4d29843b3443",
   "metadata": {
    "editable": true,
    "slideshow": {
     "slide_type": ""
    },
    "tags": []
   },
   "outputs": [],
   "source": [
    "#Load feather files \n",
    "file_path = 'before_policy_change_bal.feather'\n",
    "# Read Feather file into DataFrame\n",
    "before_policy_change_bal = pd.read_feather(file_path)"
   ]
  },
  {
   "cell_type": "code",
   "execution_count": null,
   "id": "b048aabb-f250-4e33-a5e2-179892c722a9",
   "metadata": {},
   "outputs": [],
   "source": [
    "len(before_policy_change_bal)"
   ]
  },
  {
   "cell_type": "code",
   "execution_count": null,
   "id": "4c64bde5-689c-483e-a802-777d4f2793b6",
   "metadata": {},
   "outputs": [],
   "source": [
    "unique_count =before_policy_change_bal['subreddit'].nunique()\n",
    "unique_count"
   ]
  },
  {
   "cell_type": "code",
   "execution_count": null,
   "id": "b650e41c-fb76-4190-af93-543a49eaf12d",
   "metadata": {},
   "outputs": [],
   "source": [
    "unique_countid =before_policy_change_bal['subreddit_id'].nunique()\n",
    "unique_countid"
   ]
  },
  {
   "cell_type": "code",
   "execution_count": null,
   "id": "9226a926-446a-4046-b1f2-43fa1ccd519e",
   "metadata": {},
   "outputs": [],
   "source": [
    "unique_countid =before_policy_change_bal['parent_id'].nunique()\n",
    "unique_countid"
   ]
  },
  {
   "cell_type": "code",
   "execution_count": null,
   "id": "d83ccd74-edbf-4e6f-971f-e3c6c778e007",
   "metadata": {},
   "outputs": [],
   "source": [
    "before_policy_change_bal.head(2)"
   ]
  },
  {
   "cell_type": "markdown",
   "id": "f82c205e-7c54-48eb-93d4-41720042e5c0",
   "metadata": {
    "jp-MarkdownHeadingCollapsed": true,
    "tags": []
   },
   "source": [
    "#### Merge tinyBERT imbal and bal before and after "
   ]
  },
  {
   "cell_type": "code",
   "execution_count": null,
   "id": "38944f3d-fd77-45b4-8838-b4a09c6c3a4c",
   "metadata": {},
   "outputs": [],
   "source": [
    "# Rename the 'predicted_label' column in df_bal.\n",
    "df_bal = before_policy_change_bal.rename(columns={'predicted_label': 'bal_predicted'})\n",
    "df_bal"
   ]
  },
  {
   "cell_type": "code",
   "execution_count": null,
   "id": "24814a10-ac22-4aed-8799-e8a1456104fe",
   "metadata": {},
   "outputs": [],
   "source": [
    "# Rename the 'predicted_label' column in df_imbal.\n",
    "# Note same number of rows and indexes are the same\n",
    "df_imbal = before_policy_change_imbal.rename(columns={'predicted_label': 'imbal_predicted'})\n",
    "df_imbal"
   ]
  },
  {
   "cell_type": "code",
   "execution_count": null,
   "id": "f5c42e22-6efd-4891-8764-524aba62b60f",
   "metadata": {},
   "outputs": [],
   "source": [
    "# Join datasets\n",
    "before_combined_all = df_bal.join(df_imbal, lsuffix='_bal', rsuffix='_imbal')\n",
    "before_combined_all.head(1)"
   ]
  },
  {
   "cell_type": "code",
   "execution_count": null,
   "id": "76c1f2ea-f70e-481d-8c59-9a6fe0a8f1bf",
   "metadata": {},
   "outputs": [],
   "source": [
    "# Drop and reorder remaining columns for easier comparision\n",
    "# Note same number of rows \n",
    "before_combined_all = before_combined_all.drop(['parent_id_imbal', 'score_imbal', 'subreddit_imbal','body_imbal', 'subreddit_type_imbal','created_utc_imbal'], axis=1)\n",
    "before_all_col = ['body_bal','imbal_predicted','bal_predicted','subreddit_bal','subreddit_id_bal',\n",
    "'subreddit_id_imbal','created_utc_bal','score_bal','subreddit_type_bal']\n",
    "before_combined_all=before_combined_all[before_all_col]\n",
    "before_combined_all"
   ]
  },
  {
   "cell_type": "code",
   "execution_count": null,
   "id": "558e3684-0f4d-4e94-8ff5-75b7200471e1",
   "metadata": {},
   "outputs": [],
   "source": [
    "# Save to csv\n",
    "before_combined_all.to_csv('bef_bal_imbal_all.csv', index=False)"
   ]
  },
  {
   "cell_type": "code",
   "execution_count": null,
   "id": "3fbc38b7-1aa5-430e-9c96-1b3d31aadc4f",
   "metadata": {},
   "outputs": [],
   "source": [
    "# Filter for only rows where bal and imbal predicted are not equal\n",
    "before_filtered = before_combined_all[before_combined_all['imbal_predicted'] != before_combined_all['bal_predicted']]\n",
    "#before_filtered"
   ]
  },
  {
   "cell_type": "code",
   "execution_count": null,
   "id": "1c06130a-f852-4279-ad6a-aa4b0ab547be",
   "metadata": {},
   "outputs": [],
   "source": [
    "# Save to csv\n",
    "before_filtered.to_csv('bef_bal_imbal_mismatch.csv', index=False)"
   ]
  },
  {
   "cell_type": "code",
   "execution_count": null,
   "id": "ef521b45-5dcb-4574-8ec8-45952f9f742f",
   "metadata": {},
   "outputs": [],
   "source": [
    "# Rename the 'predicted_label' column in df_bal.\n",
    "df_bal_after = after_policy_change_bal.rename(columns={'predicted_label': 'bal_predicted'})\n",
    "df_bal_after.head(2)"
   ]
  },
  {
   "cell_type": "code",
   "execution_count": null,
   "id": "4f8ae7e1-0507-436d-b52b-ced9c2e87d71",
   "metadata": {},
   "outputs": [],
   "source": [
    "# Rename the 'predicted_label' column in df_imbal.\n",
    "# Note same number of rows and indexes are the same\n",
    "df_imbal_after = after_policy_change_imbal.rename(columns={'predicted_label': 'imbal_predicted'})\n",
    "df_imbal_after.head(2)"
   ]
  },
  {
   "cell_type": "code",
   "execution_count": null,
   "id": "00da9218-e58a-4d3d-8731-dc6bda6378b0",
   "metadata": {},
   "outputs": [],
   "source": [
    "# Join datasets\n",
    "after_combined_all = df_bal_after.join(df_imbal_after, lsuffix='_bal', rsuffix='_imbal')\n",
    "after_combined_all.head(1)"
   ]
  },
  {
   "cell_type": "code",
   "execution_count": null,
   "id": "94d9919f-36a4-4dce-9352-cdbb5fa356b3",
   "metadata": {},
   "outputs": [],
   "source": [
    "# Drop and reorder remaining columns for easier comparision\n",
    "# Note same number of rows \n",
    "after_combined_all = after_combined_all.drop(['parent_id_imbal', 'score_imbal', 'subreddit_imbal','body_imbal', 'subreddit_type_imbal','created_utc_imbal'], axis=1)\n",
    "after_all_col = ['body_bal','imbal_predicted','bal_predicted','subreddit_bal','subreddit_id_bal',\n",
    "'subreddit_id_imbal','created_utc_bal','score_bal','subreddit_type_bal']\n",
    "after_combined_all=after_combined_all[after_all_col]\n",
    "after_combined_all.head(2)"
   ]
  },
  {
   "cell_type": "code",
   "execution_count": null,
   "id": "f4226376-40a8-43e3-baee-29474a3f62d9",
   "metadata": {},
   "outputs": [],
   "source": [
    "# Save to csv\n",
    "after_combined_all.to_csv('aft_bal_imbal_all.csv', index=False)"
   ]
  },
  {
   "cell_type": "markdown",
   "id": "78be181d-6191-4152-afaa-0e99beba50f6",
   "metadata": {
    "jp-MarkdownHeadingCollapsed": true,
    "tags": []
   },
   "source": [
    "#### Load T. Lever's Before Results\n"
   ]
  },
  {
   "cell_type": "code",
   "execution_count": null,
   "id": "5ab5ffcc-da6d-4c42-abde-69a485069901",
   "metadata": {
    "editable": true,
    "slideshow": {
     "slide_type": ""
    },
    "tags": []
   },
   "outputs": [],
   "source": [
    "# Prior 6-26 to 6-27 \n",
    "file_path = 'Data_Frame_Of_Texts_And_Predictions_By_BBHSBC_For_2020-06-26_To_2020-06-27.csv'\n",
    "before_policy_change_part1 = pd.read_csv(file_path)"
   ]
  },
  {
   "cell_type": "code",
   "execution_count": null,
   "id": "db096b3c-21ae-4fe5-b80b-fef46fd4fa2f",
   "metadata": {
    "tags": []
   },
   "outputs": [],
   "source": [
    "#before_policy_change_part1"
   ]
  },
  {
   "cell_type": "code",
   "execution_count": null,
   "id": "af630af3-8f4d-4152-9ed0-fa838717a858",
   "metadata": {
    "tags": []
   },
   "outputs": [],
   "source": [
    "# Check the number of unique 'text' values \n",
    "unique_text_count = before_policy_change_part1['text'].nunique()\n",
    "print(f\"Unique text: {unique_text_count}\")"
   ]
  },
  {
   "cell_type": "code",
   "execution_count": null,
   "id": "76e999bd-11eb-4c29-ba7c-f75cfc283a19",
   "metadata": {
    "tags": []
   },
   "outputs": [],
   "source": [
    "# Dropping duplicate rows based on the 'text' column and keeping the first occurrence\n",
    "before_policy_change_part1 = before_policy_change_part1.drop_duplicates(subset='text', keep='first')\n",
    "# After dropping duplicates, check the number of rows to ensure duplicates have been removed\n",
    "print(before_policy_change_part1.shape[0])"
   ]
  },
  {
   "cell_type": "code",
   "execution_count": null,
   "id": "09bcbda6-0ecd-468b-97b8-dbbbfdf7e7e5",
   "metadata": {
    "tags": []
   },
   "outputs": [],
   "source": [
    "#before_policy_change_part1"
   ]
  },
  {
   "cell_type": "code",
   "execution_count": null,
   "id": "5ff64d1d-38fd-4278-a294-e067558a5d24",
   "metadata": {
    "editable": true,
    "slideshow": {
     "slide_type": ""
    },
    "tags": []
   },
   "outputs": [],
   "source": [
    "# 6-27 to 6-28 Prior\n",
    "file_path = 'Data_Frame_Of_Texts_And_Predictions_By_BBHSBC_For_2020-06-27_To_2020-06-28.csv'\n",
    "before_policy_change_part2 = pd.read_csv(file_path)"
   ]
  },
  {
   "cell_type": "code",
   "execution_count": null,
   "id": "81867c0d-23d2-4625-9595-1c941b940898",
   "metadata": {
    "tags": []
   },
   "outputs": [],
   "source": [
    "# Check the number of unique 'text' values\n",
    "unique_text_count2 = before_policy_change_part2['text'].nunique()\n",
    "print(f\"Unique text: {unique_text_count2}\")"
   ]
  },
  {
   "cell_type": "code",
   "execution_count": null,
   "id": "2f80c2a6-f3bf-4b16-93be-71c9f56a10a6",
   "metadata": {
    "tags": []
   },
   "outputs": [],
   "source": [
    "# Dropping duplicate rows based on the 'text' column and keep the first occurrence\n",
    "before_policy_change_part2 = before_policy_change_part2.drop_duplicates(subset='text', keep='first')\n",
    "# After dropping duplicates, check the number of rows to ensure duplicates have been removed\n",
    "print(before_policy_change_part2.shape[0])"
   ]
  },
  {
   "cell_type": "code",
   "execution_count": null,
   "id": "0d85f71a-429b-49a9-bdfb-1bdfabe658e9",
   "metadata": {
    "editable": true,
    "slideshow": {
     "slide_type": ""
    },
    "tags": []
   },
   "outputs": [],
   "source": [
    "# 6-28 to 6-29 Prior\n",
    "file_path = 'Data_Frame_Of_Texts_And_Predictions_By_BBHSBC_For_2020-06-28_To_2020-06-29.csv'\n",
    "before_policy_change_part3 = pd.read_csv(file_path)"
   ]
  },
  {
   "cell_type": "code",
   "execution_count": null,
   "id": "491f1aa6-7976-4be4-b030-9f1619fc2164",
   "metadata": {
    "tags": []
   },
   "outputs": [],
   "source": [
    "# Check the number of unique 'body_bal' values in 't_lever_before'\n",
    "unique_text_count3 = before_policy_change_part3['text'].nunique()\n",
    "print(f\"Unique text: {unique_text_count3}\")"
   ]
  },
  {
   "cell_type": "code",
   "execution_count": null,
   "id": "3bee0913-9d98-4746-9886-7983e5ce953d",
   "metadata": {
    "tags": []
   },
   "outputs": [],
   "source": [
    "#before_policy_change_part3 "
   ]
  },
  {
   "cell_type": "code",
   "execution_count": null,
   "id": "7ef19670-30b0-42da-8912-a771c16f146e",
   "metadata": {},
   "outputs": [],
   "source": [
    "# Concatenate three dataframes\n",
    "all_parts = pd.concat([before_policy_change_part1, before_policy_change_part2, before_policy_change_part3], ignore_index=True)"
   ]
  },
  {
   "cell_type": "code",
   "execution_count": null,
   "id": "3790b02a-5de8-479c-987b-4d9657ab62d2",
   "metadata": {
    "tags": []
   },
   "outputs": [],
   "source": [
    "# Save to csv\n",
    "all_parts.to_csv('t_lever_before.csv', index=False)"
   ]
  },
  {
   "cell_type": "code",
   "execution_count": null,
   "id": "d2ab3ab0-455a-408a-907d-f2a899f1167b",
   "metadata": {},
   "outputs": [],
   "source": [
    "len(all_parts)"
   ]
  },
  {
   "cell_type": "code",
   "execution_count": null,
   "id": "3aa1fff7-7959-4f1b-9ee1-2fc132acf925",
   "metadata": {},
   "outputs": [],
   "source": [
    "all_parts.head(2)"
   ]
  },
  {
   "cell_type": "markdown",
   "id": "45805e62-6a45-4fe0-b06e-ef99bc680571",
   "metadata": {
    "jp-MarkdownHeadingCollapsed": true,
    "tags": []
   },
   "source": [
    "#### Load H.Koizumi's Before Results\n"
   ]
  },
  {
   "cell_type": "code",
   "execution_count": null,
   "id": "cda789f7-7d90-4401-9e57-3d087d3b3269",
   "metadata": {
    "editable": true,
    "slideshow": {
     "slide_type": ""
    },
    "tags": []
   },
   "outputs": [],
   "source": [
    "# Prior 6-26 to 6-27 \n",
    "file_path = 'Data_Frame_Of_Texts_And_Predictions_By_DBHSBC_For_2020-06-26_To_2020-06-27.csv'\n",
    "before_policy_change_part1DB = pd.read_csv(file_path)"
   ]
  },
  {
   "cell_type": "code",
   "execution_count": null,
   "id": "b072a786-10ca-43dd-b211-8a97680e0b6c",
   "metadata": {
    "tags": []
   },
   "outputs": [],
   "source": [
    "#before_policy_change_part1DB"
   ]
  },
  {
   "cell_type": "code",
   "execution_count": null,
   "id": "5b97f837-85f5-4cdf-9ca1-05c2dcc66a9e",
   "metadata": {
    "tags": []
   },
   "outputs": [],
   "source": [
    "# Check the number of unique 'body' values \n",
    "unique_text_count = before_policy_change_part1DB['body'].nunique()\n",
    "print(f\"Unique text: {unique_text_count}\")"
   ]
  },
  {
   "cell_type": "code",
   "execution_count": null,
   "id": "f002353d-df67-4976-b574-d13e7ad30f21",
   "metadata": {
    "tags": []
   },
   "outputs": [],
   "source": [
    "# Dropping duplicate rows based on the 'body_bal' column and keep first occurrence\n",
    "before_policy_change_part1DB = before_policy_change_part1DB.drop_duplicates(subset='body', keep='first')\n",
    "# After dropping duplicates, check the number of rows to ensure duplicates have been removed\n",
    "print(before_policy_change_part1DB.shape[0])"
   ]
  },
  {
   "cell_type": "code",
   "execution_count": null,
   "id": "fe26561e-c713-4a9d-b755-eb572a83aece",
   "metadata": {
    "tags": []
   },
   "outputs": [],
   "source": [
    "#before_policy_change_part1DB"
   ]
  },
  {
   "cell_type": "code",
   "execution_count": null,
   "id": "beede15b-7dc4-4c0d-97d4-37d584de207e",
   "metadata": {
    "editable": true,
    "slideshow": {
     "slide_type": ""
    },
    "tags": []
   },
   "outputs": [],
   "source": [
    "# 6-27 to 6-28 Prior\n",
    "file_path = 'Data_Frame_Of_Texts_And_Predictions_By_DBHSBC_For_2020-06-27_To_2020-06-28.csv'\n",
    "before_policy_change_part2DB = pd.read_csv(file_path)"
   ]
  },
  {
   "cell_type": "code",
   "execution_count": null,
   "id": "40cc6584-6d9a-4625-a6ef-3de926365cd8",
   "metadata": {
    "tags": []
   },
   "outputs": [],
   "source": [
    "# Check the number of unique 'body'\n",
    "unique_text_count2 = before_policy_change_part2DB['body'].nunique()\n",
    "print(f\"Unique text: {unique_text_count2}\")"
   ]
  },
  {
   "cell_type": "code",
   "execution_count": null,
   "id": "1871150c-a8ab-44a7-8da2-6c8c0bf9a5ff",
   "metadata": {
    "tags": []
   },
   "outputs": [],
   "source": [
    "# Dropping duplicate rows based on the 'body' column \n",
    "before_policy_change_part2DB = before_policy_change_part2DB.drop_duplicates(subset='body', keep='first')\n",
    "# After dropping duplicates, check the number of rows to ensure duplicates have been removed\n",
    "print(before_policy_change_part2DB.shape[0])"
   ]
  },
  {
   "cell_type": "code",
   "execution_count": null,
   "id": "e55fcea5-aab2-45e5-880b-c51228a75945",
   "metadata": {
    "editable": true,
    "slideshow": {
     "slide_type": ""
    },
    "tags": []
   },
   "outputs": [],
   "source": [
    "# 6-28 to 6-29 Prior\n",
    "file_path = 'Data_Frame_Of_Texts_And_Predictions_By_DBHSBC_For_2020-06-28_To_2020-06-29.csv'\n",
    "before_policy_change_part3DB = pd.read_csv(file_path)"
   ]
  },
  {
   "cell_type": "code",
   "execution_count": null,
   "id": "616ea5de-a18d-4843-8623-ece8980fce17",
   "metadata": {
    "tags": []
   },
   "outputs": [],
   "source": [
    "# Check the number of unique 'body'\n",
    "unique_text_count3DB = before_policy_change_part3DB['body'].nunique()\n",
    "print(f\"Unique text: {unique_text_count3DB}\")"
   ]
  },
  {
   "cell_type": "code",
   "execution_count": null,
   "id": "4e71669e-016a-49bc-b28c-9e4b4a350212",
   "metadata": {
    "tags": []
   },
   "outputs": [],
   "source": [
    "# Dropping duplicate rows based on the 'body' column \n",
    "before_policy_change_part3DB = before_policy_change_part3DB.drop_duplicates(subset='body', keep='first')\n",
    "# After dropping duplicates, check the number of rows to ensure duplicates have been removed\n",
    "print(before_policy_change_part3DB.shape[0])"
   ]
  },
  {
   "cell_type": "code",
   "execution_count": null,
   "id": "275a472d-8f38-4d33-bf68-fa2c8f1add63",
   "metadata": {
    "tags": []
   },
   "outputs": [],
   "source": [
    "#before_policy_change_part3DB "
   ]
  },
  {
   "cell_type": "code",
   "execution_count": null,
   "id": "19326f6f-7e7f-49ad-8e94-c3cf99a67604",
   "metadata": {},
   "outputs": [],
   "source": [
    "# Concatenate three dataframes\n",
    "all_partsDB = pd.concat([before_policy_change_part1DB, before_policy_change_part2DB, before_policy_change_part3DB], ignore_index=True)"
   ]
  },
  {
   "cell_type": "code",
   "execution_count": null,
   "id": "cf91c023-e98d-4bcd-a5f4-1d53af2ab086",
   "metadata": {
    "tags": []
   },
   "outputs": [],
   "source": [
    "# Save to csv\n",
    "all_partsDB.to_csv('h_koizumi_before.csv', index=False)"
   ]
  },
  {
   "cell_type": "code",
   "execution_count": null,
   "id": "9334295e-5591-4a8b-9554-ab2c8875b262",
   "metadata": {},
   "outputs": [],
   "source": [
    "len(all_partsDB)"
   ]
  },
  {
   "cell_type": "code",
   "execution_count": null,
   "id": "7e73f44f-edce-401e-8e22-d704a8d6f104",
   "metadata": {},
   "outputs": [],
   "source": [
    "all_partsDB.head(2)"
   ]
  },
  {
   "cell_type": "markdown",
   "id": "e98f2e87-8117-4820-93c9-e30c356c63ab",
   "metadata": {
    "jp-MarkdownHeadingCollapsed": true,
    "tags": []
   },
   "source": [
    "#### Load tinyBERT "
   ]
  },
  {
   "cell_type": "code",
   "execution_count": null,
   "id": "ef1960bf-f91b-4e5e-82fd-08dce350c03c",
   "metadata": {},
   "outputs": [],
   "source": [
    "# Load before tinyBert balanced and imbalanced results\n",
    "file_path = 'bef_bal_imbal_all.csv'\n",
    "bef_bal_imbal_all = pd.read_csv(file_path)"
   ]
  },
  {
   "cell_type": "code",
   "execution_count": null,
   "id": "0bbd5707-23ad-48a7-86a0-1a6167fd3cc3",
   "metadata": {
    "tags": []
   },
   "outputs": [],
   "source": [
    "# Check the number of unique 'body_bal' values \n",
    "unique_bef = bef_bal_imbal_all['body_bal'].nunique()\n",
    "print(f\"Unique text: {unique_bef}\")"
   ]
  },
  {
   "cell_type": "code",
   "execution_count": null,
   "id": "db20c81c-55ad-4dc6-8393-93e7c0a0e75c",
   "metadata": {
    "tags": []
   },
   "outputs": [],
   "source": [
    "# Dropping duplicate rows based on the 'body_bal' column and keep first\n",
    "bef_bal_imbal_all = bef_bal_imbal_all.drop_duplicates(subset='body_bal', keep='first')\n",
    "# After dropping duplicates, check the number of rows to ensure duplicates have been removed\n",
    "print(bef_bal_imbal_all.shape[0])"
   ]
  },
  {
   "cell_type": "code",
   "execution_count": null,
   "id": "9c1c692d-6ab0-49b4-8c1c-1fdf0bde7371",
   "metadata": {},
   "outputs": [],
   "source": [
    "len(bef_bal_imbal_all)"
   ]
  },
  {
   "cell_type": "code",
   "execution_count": null,
   "id": "218dfa3f-4a08-4f46-a71c-8631b462a9c6",
   "metadata": {
    "tags": []
   },
   "outputs": [],
   "source": [
    "#bef_bal_imbal_all"
   ]
  },
  {
   "cell_type": "code",
   "execution_count": null,
   "id": "9fe9437a-2dcc-42d8-a81a-b64276a068c0",
   "metadata": {},
   "outputs": [],
   "source": [
    "# Drop more columns - mostly irrelevant\n",
    "columns_to_drop = ['subreddit_id_imbal', 'subreddit_id_bal','score_bal','subreddit_type_bal']\n",
    "bef_bal_imbal_min = bef_bal_imbal_all.drop(columns=columns_to_drop)"
   ]
  },
  {
   "cell_type": "code",
   "execution_count": null,
   "id": "4c33d316-2ae9-4fda-a39c-61aa11abb3bf",
   "metadata": {},
   "outputs": [],
   "source": [
    "# Save to csv\n",
    "bef_bal_imbal_min.to_csv('bef_bal_imbal_min.csv', index=False)"
   ]
  },
  {
   "cell_type": "code",
   "execution_count": null,
   "id": "df5916cd-9d00-4a26-acd6-f84527475e45",
   "metadata": {
    "tags": []
   },
   "outputs": [],
   "source": [
    "# bef_bal_imbal_min"
   ]
  },
  {
   "cell_type": "code",
   "execution_count": null,
   "id": "1f6154c5-0979-4eb5-a1ce-64e0535b7028",
   "metadata": {},
   "outputs": [],
   "source": [
    "# Load before tinyBert balanced and imbalanced results\n",
    "file_path = 'aft_bal_imbal_all.csv'\n",
    "aft_bal_imbal_all = pd.read_csv(file_path)"
   ]
  },
  {
   "cell_type": "code",
   "execution_count": null,
   "id": "2cac125f-1d9c-424f-b4c4-daa58171ff07",
   "metadata": {
    "tags": []
   },
   "outputs": [],
   "source": [
    "# Check the number of unique 'body_bal' values \n",
    "unique_aft = aft_bal_imbal_all['body_bal'].nunique()\n",
    "print(f\"Unique text: {unique_aft}\")"
   ]
  },
  {
   "cell_type": "code",
   "execution_count": null,
   "id": "0e13bbb3-7e2e-43e2-95bd-2f7dc3eb8d3a",
   "metadata": {
    "tags": []
   },
   "outputs": [],
   "source": [
    "# Dropping duplicate rows based on the 'body_bal' column and keep first\n",
    "aft_bal_imbal_all = aft_bal_imbal_all.drop_duplicates(subset='body_bal', keep='first')\n",
    "# After dropping duplicates, check the number of rows to ensure duplicates have been removed\n",
    "print(aft_bal_imbal_all.shape[0])"
   ]
  },
  {
   "cell_type": "code",
   "execution_count": null,
   "id": "9fe15e03-566b-40c5-b9be-d6096f52183e",
   "metadata": {},
   "outputs": [],
   "source": [
    "# Drop more columns - mostly irrelevant\n",
    "columns_to_drop = ['subreddit_id_imbal', 'subreddit_id_bal','score_bal','subreddit_type_bal']\n",
    "aft_bal_imbal_min = aft_bal_imbal_all.drop(columns=columns_to_drop)"
   ]
  },
  {
   "cell_type": "code",
   "execution_count": null,
   "id": "b43cd6bd-c9ef-4f42-9dbe-13efae427087",
   "metadata": {},
   "outputs": [],
   "source": [
    "# Save to csv\n",
    "aft_bal_imbal_min.to_csv('aft_bal_imbal_min.csv', index=False)"
   ]
  },
  {
   "cell_type": "markdown",
   "id": "c9bc9d31-f59b-4480-b90b-afb3033afb69",
   "metadata": {
    "jp-MarkdownHeadingCollapsed": true,
    "tags": []
   },
   "source": [
    "#### Random Sample and Merge Before Test Predictions\n",
    "\n",
    "* Due to issues with merging these large files - decided to first do a random sample of TinyBERT\n",
    "* Merge T.Lever on tinyBERT random sample\n",
    "* Merge H.Koizumi on same random sample"
   ]
  },
  {
   "cell_type": "code",
   "execution_count": null,
   "id": "ac326706-ef99-4470-ae33-ee924c764af4",
   "metadata": {
    "tags": []
   },
   "outputs": [],
   "source": [
    "# Load tinyBERT\n",
    "file_path = 'bef_bal_imbal_min.csv'\n",
    "bef_bal_imbal_min = pd.read_csv(file_path)"
   ]
  },
  {
   "cell_type": "code",
   "execution_count": null,
   "id": "8ad01184-53f2-4cb9-997d-b0918fb78097",
   "metadata": {
    "tags": []
   },
   "outputs": [],
   "source": [
    "# Rename column to body for everything merge on body\n",
    "bef_bal_imbal_min.rename(columns={'body_bal':'body'}, inplace = True)\n",
    "bef_bal_imbal_min.head(2)"
   ]
  },
  {
   "cell_type": "code",
   "execution_count": null,
   "id": "1210232a-41a4-48cb-acaf-9ce9f5f371fa",
   "metadata": {
    "tags": []
   },
   "outputs": [],
   "source": [
    "# Load T Lever before\n",
    "file_path = 't_lever_before.csv'\n",
    "t_lever_before = pd.read_csv(file_path)"
   ]
  },
  {
   "cell_type": "code",
   "execution_count": null,
   "id": "e195f9c4-94eb-4441-9e8b-9630f72c3dde",
   "metadata": {
    "tags": []
   },
   "outputs": [],
   "source": [
    "# Load H. Koizumi before\n",
    "file_path = 'h_koizumi_before.csv'\n",
    "h_koizumi_before = pd.read_csv(file_path)"
   ]
  },
  {
   "cell_type": "code",
   "execution_count": null,
   "id": "eeb380c6-211b-40da-8b27-b71eaec099b6",
   "metadata": {
    "tags": []
   },
   "outputs": [],
   "source": [
    "# Rename text to body\n",
    "t_lever_before.rename(columns={'text':'body'}, inplace = True)\n",
    "t_lever_before.head(2)"
   ]
  },
  {
   "cell_type": "markdown",
   "id": "2321fa35-e061-4e31-9bf1-a408a9768035",
   "metadata": {
    "jp-MarkdownHeadingCollapsed": true,
    "tags": []
   },
   "source": [
    "#### Take Sample"
   ]
  },
  {
   "cell_type": "code",
   "execution_count": null,
   "id": "1a5fe87e-7855-4d21-8872-d99525aed3d8",
   "metadata": {
    "tags": []
   },
   "outputs": [],
   "source": [
    "# Take sample from tinyBert Predictions\n",
    "before_sample_250 = bef_bal_imbal_min.sample(n=250, random_state = 44)\n",
    "len(before_sample_250)"
   ]
  },
  {
   "cell_type": "code",
   "execution_count": null,
   "id": "7634f330-5e37-4a0f-9dfc-94f8d8b76d59",
   "metadata": {
    "tags": []
   },
   "outputs": [],
   "source": [
    "# Sample additional 250 entries from the remaining DataFrame\n",
    "remaining = bef_bal_imbal_min.drop(before_sample_250.index)  # Drop already sampled entries\n",
    "additional_sample_250 = remaining.sample(n=250, random_state=44)  # Sample more from the remaining data\n",
    "\n",
    "# Combine both samples to form a 500 sample set\n",
    "sample_500 = pd.concat([before_sample_250, additional_sample_250])"
   ]
  },
  {
   "cell_type": "code",
   "execution_count": null,
   "id": "7843794b-290e-41eb-b47a-70cc4dd222ee",
   "metadata": {
    "tags": []
   },
   "outputs": [],
   "source": [
    "# Check the number of unique 'body' values \n",
    "unique_text_count = sample_500['body'].nunique()\n",
    "print(f\"Unique text: {unique_text_count}\")"
   ]
  },
  {
   "cell_type": "code",
   "execution_count": null,
   "id": "4d63877d-0902-41e1-bf3c-032caab9af89",
   "metadata": {
    "tags": []
   },
   "outputs": [],
   "source": [
    "# Save to csv\n",
    "sample_500.to_csv('before_sample_500.csv', index=False)"
   ]
  },
  {
   "cell_type": "code",
   "execution_count": null,
   "id": "515c59a7-0262-4f02-8267-d6aacab071c6",
   "metadata": {
    "tags": []
   },
   "outputs": [],
   "source": [
    "# Merge T.Lever into sample\n",
    "matched_df = sample_500.merge(t_lever_before, on='body', how='left', indicator=True)\n",
    "print(matched_df['_merge'].value_counts())"
   ]
  },
  {
   "cell_type": "code",
   "execution_count": null,
   "id": "b40440bd-db50-4681-9edb-b441ce95bb13",
   "metadata": {
    "tags": []
   },
   "outputs": [],
   "source": [
    "matched_df.head(2)"
   ]
  },
  {
   "cell_type": "code",
   "execution_count": null,
   "id": "e7a133c0-93a4-4b76-a54d-931da7e76aab",
   "metadata": {
    "tags": []
   },
   "outputs": [],
   "source": [
    "# Merge H.Koizumi into sample, specifying a unique name for the indicator column\n",
    "matched_df = matched_df.merge(h_koizumi_before, on='body', how='left', indicator='merge_indicator')\n",
    "print(matched_df['merge_indicator'].value_counts())"
   ]
  },
  {
   "cell_type": "code",
   "execution_count": null,
   "id": "fd23f1f3-374d-4ef2-8fda-13efeb0e7a5f",
   "metadata": {
    "tags": []
   },
   "outputs": [],
   "source": [
    "matched_df.head(2)"
   ]
  },
  {
   "cell_type": "code",
   "execution_count": null,
   "id": "a48a08f9-9b59-45a7-a60a-d179472bae87",
   "metadata": {
    "tags": []
   },
   "outputs": [],
   "source": [
    "# Drop more columns - mostly irrelevant\n",
    "columns_to_drop = ['subreddit_bal', 'created_utc_bal']\n",
    "matched_df = matched_df.drop(columns=columns_to_drop)\n",
    "matched_df.head(2)"
   ]
  },
  {
   "cell_type": "code",
   "execution_count": null,
   "id": "e79ccf80-9164-4c68-a38e-17a538abc44d",
   "metadata": {},
   "outputs": [],
   "source": [
    "# Rename columns for clarity\n",
    "# Reorder columns for ease of analysis\n",
    "matched_df = matched_df.rename(columns={'imbal_predicted':'tinyB_imbal_pred', 'bal_predicted':'tinyB_bal_pred', \n",
    "                                        'prediction': 'BERT_pred', '_merge': 'merge_tl', 'predicted_label': 'distilB_pred', \n",
    "                                        'merge_indicator': 'merge_hk'})\n",
    "\n",
    "new_order = ['body', 'tinyB_imbal_pred','tinyB_bal_pred', 'BERT_pred','distilB_pred', 'subreddit','subreddit_id','created_utc','parent_id', 'subreddit_type','merge_tl', 'merge_hk']\n",
    "matched_df = matched_df[new_order]"
   ]
  },
  {
   "cell_type": "code",
   "execution_count": null,
   "id": "9d6038f6-4ab2-46d8-ae49-8b4cf20796f1",
   "metadata": {
    "tags": []
   },
   "outputs": [],
   "source": [
    "matched_df.head(2)"
   ]
  },
  {
   "cell_type": "code",
   "execution_count": null,
   "id": "114c102b-729d-4d59-b7a3-bfbe78f68be2",
   "metadata": {
    "tags": []
   },
   "outputs": [],
   "source": [
    "# Check the number of unique 'body' \n",
    "unique_text_count = matched_df['body'].nunique()\n",
    "print(f\"Unique text: {unique_text_count}\")"
   ]
  },
  {
   "cell_type": "code",
   "execution_count": null,
   "id": "75cc2e47-24c2-464d-b921-041242ca2447",
   "metadata": {
    "tags": []
   },
   "outputs": [],
   "source": [
    "# Dropping duplicate rows based on the 'body' column and keep first occurrence\n",
    "matched_df= matched_df.drop_duplicates(subset='body', keep='first')\n",
    "# After dropping duplicates, check the number of rows to ensure duplicates have been removed\n",
    "print(matched_df.shape[0])"
   ]
  },
  {
   "cell_type": "code",
   "execution_count": null,
   "id": "19f987fe-3690-4d03-90b7-a805e0e9963a",
   "metadata": {
    "tags": []
   },
   "outputs": [],
   "source": [
    "matched_df = matched_df.reset_index(drop=True)\n",
    "len(matched_df)"
   ]
  },
  {
   "cell_type": "code",
   "execution_count": null,
   "id": "9e7c5cc7-7e22-4e55-a58e-69922b4cc331",
   "metadata": {
    "tags": []
   },
   "outputs": [],
   "source": [
    "# Save to csv\n",
    "matched_df.to_csv('before_sample_one_500.csv', index=False)"
   ]
  },
  {
   "cell_type": "markdown",
   "id": "cdf1edc3-075f-4362-bc76-92033f1c6335",
   "metadata": {
    "tags": []
   },
   "source": [
    "#### Random Sample and Merge AFTER Predictions\n",
    "\n",
    "* Due to issues with merging these large files - decided to first do a random sample of TinyBERT\n",
    "* Merge T.Lever on tinyBERT random sample\n",
    "* Merge H.Koizumi on same random sample"
   ]
  },
  {
   "cell_type": "markdown",
   "id": "3afcd2c7-8e34-4c94-9a61-0432bfd97a76",
   "metadata": {
    "jp-MarkdownHeadingCollapsed": true,
    "tags": []
   },
   "source": [
    "#### T Lever After "
   ]
  },
  {
   "cell_type": "code",
   "execution_count": null,
   "id": "7b72efb6-7dd2-48c5-93ed-cbf1c6a8e68e",
   "metadata": {
    "editable": true,
    "slideshow": {
     "slide_type": ""
    },
    "tags": []
   },
   "outputs": [],
   "source": [
    "# T Lever \n",
    "# Prior 6-26 to 6-27 \n",
    "file_path = 'Data_Frame_Of_Texts_And_Predictions_By_BBHSBC_For_2020-06-29_To_2020-06-30.csv'\n",
    "after_policy_change_part1 = pd.read_csv(file_path)\n",
    "# 6-27 to 6-28 Prior\n",
    "file_path = 'Data_Frame_Of_Texts_And_Predictions_By_BBHSBC_For_2020-06-30_To_2020-07-01.csv'\n",
    "after_policy_change_part2 = pd.read_csv(file_path)\n",
    "# 6-28 to 6-29 Prior\n",
    "file_path = 'Data_Frame_Of_Texts_And_Predictions_By_BBHSBC_For_2020-07-01_To_2020-07-02.csv'\n",
    "after_policy_change_part3 = pd.read_csv(file_path)"
   ]
  },
  {
   "cell_type": "code",
   "execution_count": null,
   "id": "d55f23ae-740e-47e9-b0c7-236a6407409d",
   "metadata": {},
   "outputs": [],
   "source": [
    "# Concatenate three dataframes\n",
    "all_parts_after = pd.concat([after_policy_change_part1, after_policy_change_part2, after_policy_change_part3], ignore_index=True)"
   ]
  },
  {
   "cell_type": "code",
   "execution_count": null,
   "id": "b7d49435-5be2-4af7-8e25-b51560275cfd",
   "metadata": {
    "tags": []
   },
   "outputs": [],
   "source": [
    "#all_parts_after"
   ]
  },
  {
   "cell_type": "code",
   "execution_count": null,
   "id": "6ee8a79f-a503-463a-8f26-31d85079338e",
   "metadata": {
    "tags": []
   },
   "outputs": [],
   "source": [
    "# Check the number of unique 'text' values \n",
    "unique_text_count = all_parts_after['body'].nunique()\n",
    "print(f\"Unique text: {unique_text_count}\")"
   ]
  },
  {
   "cell_type": "code",
   "execution_count": null,
   "id": "2d796650-389c-4b31-a241-bffce252930c",
   "metadata": {
    "tags": []
   },
   "outputs": [],
   "source": [
    "# Drop duplicate rows based on the 'text' column and keep first occurrence\n",
    "all_parts_after = all_parts_after.drop_duplicates(subset='body', keep='first')\n",
    "# After dropping duplicates, check the number of rows to ensure duplicates have been removed\n",
    "print(all_parts_after.shape[0])"
   ]
  },
  {
   "cell_type": "code",
   "execution_count": null,
   "id": "48202177-5c6e-4055-bf89-d493fb1d145b",
   "metadata": {
    "tags": []
   },
   "outputs": [],
   "source": [
    "all_parts_after.head()"
   ]
  },
  {
   "cell_type": "code",
   "execution_count": null,
   "id": "a8424b1a-26ea-49cc-8480-d9abc56a14d8",
   "metadata": {
    "tags": []
   },
   "outputs": [],
   "source": [
    "# Save to csv\n",
    "all_parts_after.to_csv('t_lever_after.csv', index=False)"
   ]
  },
  {
   "cell_type": "markdown",
   "id": "54522239-863d-430a-bea4-88ab86beaa52",
   "metadata": {
    "jp-MarkdownHeadingCollapsed": true,
    "tags": []
   },
   "source": [
    "#### H. Koizumi After "
   ]
  },
  {
   "cell_type": "code",
   "execution_count": null,
   "id": "a01dc617-622c-4240-8c87-397307030e5f",
   "metadata": {
    "editable": true,
    "slideshow": {
     "slide_type": ""
    },
    "tags": []
   },
   "outputs": [],
   "source": [
    "# H Koizumi \n",
    "# Prior 6-26 to 6-27 \n",
    "file_path = 'Data_Frame_Of_Texts_And_Predictions_By_DBHSBC_For_2020-06-29_To_2020-06-30.csv'\n",
    "after_policy_change_part1DB = pd.read_csv(file_path)\n",
    "# 6-27 to 6-28 Prior\n",
    "file_path = 'Data_Frame_Of_Texts_And_Predictions_By_DBHSBC_For_2020-06-30_To_2020-07-01.csv'\n",
    "after_policy_change_part2DB = pd.read_csv(file_path)\n",
    "# 6-28 to 6-29 Prior\n",
    "file_path = 'Data_Frame_Of_Texts_And_Predictions_By_DBHSBC_For_2020-07-01_To_2020-07-02.csv'\n",
    "after_policy_change_part3DB = pd.read_csv(file_path)"
   ]
  },
  {
   "cell_type": "code",
   "execution_count": null,
   "id": "daecda2d-4893-44b4-89af-40638aa21e5d",
   "metadata": {},
   "outputs": [],
   "source": [
    "# Concatenate three dataframes\n",
    "all_parts_afterDB = pd.concat([after_policy_change_part1DB, after_policy_change_part2DB, after_policy_change_part3DB], ignore_index=True)"
   ]
  },
  {
   "cell_type": "code",
   "execution_count": null,
   "id": "d342a8e9-6b3f-4854-9703-13577877d706",
   "metadata": {
    "tags": []
   },
   "outputs": [],
   "source": [
    "# Check the number of unique 'text' values \n",
    "unique_text_count = all_parts_afterDB['body'].nunique()\n",
    "print(f\"Unique text: {unique_text_count}\")"
   ]
  },
  {
   "cell_type": "code",
   "execution_count": null,
   "id": "218b1523-b606-4373-b762-424c3a81c411",
   "metadata": {
    "tags": []
   },
   "outputs": [],
   "source": [
    "# Drop duplicate rows based on the 'text' column and keep first occurrence\n",
    "all_parts_afterDB = all_parts_afterDB.drop_duplicates(subset='body', keep='first')\n",
    "# After dropping duplicates, check the number of rows to ensure duplicates have been removed\n",
    "print(all_parts_afterDB.shape[0])"
   ]
  },
  {
   "cell_type": "code",
   "execution_count": null,
   "id": "ccbe89f8-22b3-4c9e-b37a-344ea2b012e4",
   "metadata": {
    "tags": []
   },
   "outputs": [],
   "source": [
    "all_parts_afterDB.head()"
   ]
  },
  {
   "cell_type": "code",
   "execution_count": null,
   "id": "88c176d8-0669-4c6d-8d8d-b3a07419e3e6",
   "metadata": {
    "tags": []
   },
   "outputs": [],
   "source": [
    "# Save to csv\n",
    "all_parts_afterDB.to_csv('h_koizumi_after.csv', index=False)"
   ]
  },
  {
   "cell_type": "markdown",
   "id": "3e11b341-47fb-4601-989c-18b4c6fc55d0",
   "metadata": {
    "jp-MarkdownHeadingCollapsed": true,
    "tags": []
   },
   "source": [
    "#### Take Sample 500 "
   ]
  },
  {
   "cell_type": "code",
   "execution_count": null,
   "id": "28054361-3cb1-45a6-a593-1b194d4d30ba",
   "metadata": {
    "tags": []
   },
   "outputs": [],
   "source": [
    "# Take sample from tinyBert Predictions\n",
    "after_sample_500 = aft_bal_imbal_min.sample(n=500, random_state = 44)\n",
    "len(after_sample_500)"
   ]
  },
  {
   "cell_type": "code",
   "execution_count": null,
   "id": "ef7730fe-e249-4491-a111-1e187126fe88",
   "metadata": {
    "tags": []
   },
   "outputs": [],
   "source": [
    "# Save to csv\n",
    "after_sample_500.to_csv('after_sample_500.csv', index=False)"
   ]
  },
  {
   "cell_type": "code",
   "execution_count": null,
   "id": "bd1dffd5-4ae5-4bcc-aaa8-1e395d48e8b7",
   "metadata": {
    "tags": []
   },
   "outputs": [],
   "source": [
    "after_sample_500.head(2)"
   ]
  },
  {
   "cell_type": "code",
   "execution_count": null,
   "id": "817a0f24-83a6-425c-830e-5256859c714f",
   "metadata": {
    "tags": []
   },
   "outputs": [],
   "source": [
    "# Rename text to body\n",
    "after_sample_500.rename(columns={'body_bal':'body'}, inplace = True)\n",
    "after_sample_500.head(2)"
   ]
  },
  {
   "cell_type": "code",
   "execution_count": null,
   "id": "7327b453-2ea0-4192-a57c-bd0b61b95499",
   "metadata": {
    "tags": []
   },
   "outputs": [],
   "source": [
    "# Rename column to body for everything merge on body\n",
    "aft_bal_imbal_min.rename(columns={'body_bal':'body'}, inplace = True)\n",
    "aft_bal_imbal_min.head(2)"
   ]
  },
  {
   "cell_type": "code",
   "execution_count": null,
   "id": "10233c19-98b1-463f-be40-3703ead0d7c5",
   "metadata": {
    "tags": []
   },
   "outputs": [],
   "source": [
    "# Load T Lever after\n",
    "file_path = 't_lever_after.csv'\n",
    "t_lever_after = pd.read_csv(file_path)"
   ]
  },
  {
   "cell_type": "code",
   "execution_count": null,
   "id": "c58a0e34-61a5-45bb-87ab-c5fe0fe49cf1",
   "metadata": {
    "tags": []
   },
   "outputs": [],
   "source": [
    "# Load H. Koizumi before\n",
    "file_path = 'h_koizumi_after.csv'\n",
    "h_koizumi_after = pd.read_csv(file_path)"
   ]
  },
  {
   "cell_type": "code",
   "execution_count": null,
   "id": "cbd99075-e182-485c-b63f-8b3b025c1de2",
   "metadata": {
    "tags": []
   },
   "outputs": [],
   "source": [
    "# Merge T.Lever into sample\n",
    "after_matched_df = after_sample_500.merge(t_lever_after, on='body', how='left', indicator=True)\n",
    "print(after_matched_df['_merge'].value_counts())"
   ]
  },
  {
   "cell_type": "code",
   "execution_count": null,
   "id": "a88905ee-bed9-4f04-a3b8-9cb2a5f90f66",
   "metadata": {
    "tags": []
   },
   "outputs": [],
   "source": [
    "# Merge H.Koizumi into sample, specifying a unique name for the indicator column\n",
    "after_matched_df = after_matched_df.merge(h_koizumi_after, on='body', how='left', indicator='merge_indicator')\n",
    "print(after_matched_df['merge_indicator'].value_counts())"
   ]
  },
  {
   "cell_type": "code",
   "execution_count": null,
   "id": "6d4a5d3c-82e2-42e7-9378-79c9cde7a2ee",
   "metadata": {
    "tags": []
   },
   "outputs": [],
   "source": [
    "#after_matched_df.head(2)"
   ]
  },
  {
   "cell_type": "code",
   "execution_count": null,
   "id": "f1d8f53d-cacb-4540-bc94-f1e7804c3a33",
   "metadata": {
    "tags": []
   },
   "outputs": [],
   "source": [
    "# Drop more columns - mostly irrelevant\n",
    "columns_to_drop = ['subreddit_bal', 'created_utc_bal']\n",
    "after_matched_df = after_matched_df.drop(columns=columns_to_drop)\n",
    "#after_matched_df.head(2)"
   ]
  },
  {
   "cell_type": "code",
   "execution_count": null,
   "id": "562ba2af-cab9-4422-937a-ce8dd4c57bf0",
   "metadata": {},
   "outputs": [],
   "source": [
    "# Rename columns for clarity\n",
    "# Reorder columns for ease of analysis\n",
    "after_matched_df = after_matched_df.rename(columns={'imbal_predicted':'tinyB_imbal_pred', 'bal_predicted':'tinyB_bal_pred', \n",
    "                                        'predicted_label_x': 'BERT_pred', '_merge': 'merge_tl', 'predicted_label_y': 'distilB_pred', \n",
    "                                        'merge_indicator': 'merge_hk'})\n",
    "#after_matched_df.head(2)"
   ]
  },
  {
   "cell_type": "code",
   "execution_count": null,
   "id": "127aee07-e834-4810-b965-cd187b153773",
   "metadata": {
    "tags": []
   },
   "outputs": [],
   "source": [
    "# Drop more columns - mostly irrelevant\n",
    "columns_to_drop = ['parent_id_x', 'score_x', 'subreddit_x', 'subreddit_id_x', 'subreddit_type_x','created_utc_x']\n",
    "after_matched_df = after_matched_df.drop(columns=columns_to_drop)\n",
    "#after_matched_df.head(2)"
   ]
  },
  {
   "cell_type": "code",
   "execution_count": null,
   "id": "1d88f57f-b261-4dde-9af1-070e8a1b494e",
   "metadata": {},
   "outputs": [],
   "source": [
    "# Rename more columns for clarity\n",
    "after_matched_df = after_matched_df.rename(columns={'parent_id_y': 'parent_id', 'score_y':'score', 'subreddit_y':'subreddit', 'subreddit_id_y': 'subreddit_id', 'subreddit_type_y': 'subreddit_type',\n",
    "                                                   'created_utc_y': 'created_utc'})\n",
    "#after_matched_df.head(2)"
   ]
  },
  {
   "cell_type": "code",
   "execution_count": null,
   "id": "efbcab9b-cfdc-45ba-b4b9-7a33958d1eae",
   "metadata": {},
   "outputs": [],
   "source": [
    "new_order = ['body', 'tinyB_imbal_pred','tinyB_bal_pred', 'BERT_pred','distilB_pred', 'subreddit','subreddit_id','created_utc','parent_id', 'subreddit_type','merge_tl', 'merge_hk']\n",
    "after_matched_df = after_matched_df[new_order]"
   ]
  },
  {
   "cell_type": "code",
   "execution_count": null,
   "id": "563c02ea-49f7-4c41-847a-cc77dc4033b7",
   "metadata": {},
   "outputs": [],
   "source": [
    "#after_matched_df.head(2)"
   ]
  },
  {
   "cell_type": "code",
   "execution_count": null,
   "id": "f7cf5381-553f-42ac-9659-fdcce94c39cc",
   "metadata": {
    "tags": []
   },
   "outputs": [],
   "source": [
    "# Check the number of unique 'body' \n",
    "unique_text_count = after_matched_df['body'].nunique()\n",
    "print(f\"Unique text: {unique_text_count}\")"
   ]
  },
  {
   "cell_type": "code",
   "execution_count": null,
   "id": "6f1b713c-2f60-4d17-98fc-ca13e88a69f7",
   "metadata": {
    "tags": []
   },
   "outputs": [],
   "source": [
    "after_matched_df = after_matched_df.reset_index(drop=True)\n",
    "len(after_matched_df)"
   ]
  },
  {
   "cell_type": "code",
   "execution_count": null,
   "id": "364b0be4-cde5-4aed-9e79-424dba092fc0",
   "metadata": {
    "tags": []
   },
   "outputs": [],
   "source": [
    "# Save to csv\n",
    "after_matched_df.to_csv('after_sample_one_500.csv', index=False)"
   ]
  },
  {
   "cell_type": "markdown",
   "id": "b3d4c444-bcee-4c3a-8697-e268826959d8",
   "metadata": {},
   "source": [
    "## EDA "
   ]
  },
  {
   "cell_type": "markdown",
   "id": "97b62e7f-c255-4c6a-8a4f-0c776c25f00a",
   "metadata": {
    "jp-MarkdownHeadingCollapsed": true,
    "tags": []
   },
   "source": [
    "### Histogram - Compare 4 Models Before Policy Change Predictions"
   ]
  },
  {
   "cell_type": "markdown",
   "id": "da928c12-fd9b-4e15-b60a-12a4479e0850",
   "metadata": {
    "tags": []
   },
   "source": [
    "#### Import and Set Up Data"
   ]
  },
  {
   "cell_type": "code",
   "execution_count": null,
   "id": "6e802515-541f-43b2-9191-7b29433200f0",
   "metadata": {},
   "outputs": [],
   "source": [
    "# Load before tinyBert balanced results\n",
    "file_path = 'before_policy_change.feather'\n",
    "before_policy_change_imbal = pd.read_feather(file_path)"
   ]
  },
  {
   "cell_type": "code",
   "execution_count": null,
   "id": "6decdd20-9b24-4948-bd44-d04a2c958f4d",
   "metadata": {
    "tags": []
   },
   "outputs": [],
   "source": [
    "# Drop duplicate rows based on the 'body' column and keep first occurrence\n",
    "before_policy_change_imbal = before_policy_change_imbal.drop_duplicates(subset='body', \n",
    "                                                                        keep='first')\n",
    "# After dropping duplicates, check the number of rows to ensure duplicates removed\n",
    "print(before_policy_change_imbal.shape[0])"
   ]
  },
  {
   "cell_type": "code",
   "execution_count": null,
   "id": "b3e1105f-f3f0-4a42-9cad-fba9a5b23780",
   "metadata": {},
   "outputs": [],
   "source": [
    "# Load before tinyBert imbalanced results\n",
    "file_path = 'before_policy_change_bal.feather'\n",
    "before_policy_change_bal = pd.read_feather(file_path)"
   ]
  },
  {
   "cell_type": "code",
   "execution_count": null,
   "id": "032d8460-6063-4f79-8300-9f83ffd625a3",
   "metadata": {
    "tags": []
   },
   "outputs": [],
   "source": [
    "# Drop duplicate rows based on the 'body' column and keep first occurrence\n",
    "before_policy_change_bal = before_policy_change_bal.drop_duplicates(subset='body', \n",
    "                                                                        keep='first')\n",
    "# After dropping duplicates, check the number of rows to ensure duplicates removed\n",
    "print(before_policy_change_bal.shape[0])"
   ]
  },
  {
   "cell_type": "code",
   "execution_count": null,
   "id": "bf19df3b-a44b-45d3-938f-d687d6293a77",
   "metadata": {},
   "outputs": [],
   "source": [
    "# Load t lever before results\n",
    "file_path = 't_lever_before.csv'\n",
    "t_lever_before = pd.read_csv(file_path)"
   ]
  },
  {
   "cell_type": "code",
   "execution_count": null,
   "id": "da466ff5-5808-470e-ad3e-3c707a1ca738",
   "metadata": {
    "tags": []
   },
   "outputs": [],
   "source": [
    "#t_lever_before"
   ]
  },
  {
   "cell_type": "code",
   "execution_count": null,
   "id": "498df3b7-2b57-4f76-8eda-6bdf6c5362a8",
   "metadata": {
    "tags": []
   },
   "outputs": [],
   "source": [
    "t_lever_before = t_lever_before.reset_index(drop=True)\n",
    "len(t_lever_before)"
   ]
  },
  {
   "cell_type": "code",
   "execution_count": null,
   "id": "5b7cb4e5-a299-49a5-992a-9e63b3b0e8a7",
   "metadata": {
    "tags": []
   },
   "outputs": [],
   "source": [
    "# Drop duplicate rows based on the 'text' column and keep first occurrence\n",
    "t_lever_before = t_lever_before.drop_duplicates(subset='text', keep='first')\n",
    "# After dropping duplicates, check the number of rows to ensure duplicates removed\n",
    "print(t_lever_before.shape[0])"
   ]
  },
  {
   "cell_type": "code",
   "execution_count": null,
   "id": "2df107bf-7b30-4e26-85af-8d7bb806b553",
   "metadata": {},
   "outputs": [],
   "source": [
    "# Load h koizumi before results\n",
    "file_path = 'h_koizumi_before.csv'\n",
    "h_koizumi_before = pd.read_csv(file_path)"
   ]
  },
  {
   "cell_type": "code",
   "execution_count": null,
   "id": "733946d8-7c21-4a87-ba19-4ac483d1922a",
   "metadata": {
    "tags": []
   },
   "outputs": [],
   "source": [
    "#h_koizumi_before"
   ]
  },
  {
   "cell_type": "code",
   "execution_count": null,
   "id": "b13ab360-5f17-4bb2-ba28-57339dbf80bb",
   "metadata": {
    "tags": []
   },
   "outputs": [],
   "source": [
    "h_koizumi_before = h_koizumi_before.reset_index(drop=True)\n",
    "len(h_koizumi_before)"
   ]
  },
  {
   "cell_type": "code",
   "execution_count": null,
   "id": "418ea70b-19cd-4dc2-963c-1ec7d826ac60",
   "metadata": {
    "tags": []
   },
   "outputs": [],
   "source": [
    "# Check the number of unique 'text' values \n",
    "unique_text_count = h_koizumi_before['body'].nunique()\n",
    "print(f\"Unique text: {unique_text_count}\")"
   ]
  },
  {
   "cell_type": "code",
   "execution_count": null,
   "id": "1a047203-4c12-4c7e-b48a-55fa09a5d08e",
   "metadata": {
    "tags": []
   },
   "outputs": [],
   "source": [
    "# Drop duplicate rows based on the 'text' column and keep first occurrence\n",
    "h_koizumi_before = h_koizumi_before.drop_duplicates(subset='body', keep='first')\n",
    "# After dropping duplicates, check the number of rows to ensure duplicates removed\n",
    "print(h_koizumi_before.shape[0])"
   ]
  },
  {
   "cell_type": "code",
   "execution_count": null,
   "id": "6f71fcc4-710f-472e-ae06-53f7933b286c",
   "metadata": {
    "tags": []
   },
   "outputs": [],
   "source": [
    "t_lever_before.head(1)"
   ]
  },
  {
   "cell_type": "code",
   "execution_count": null,
   "id": "616e8db8-ae8f-4250-8695-c2429b22ec96",
   "metadata": {
    "tags": []
   },
   "outputs": [],
   "source": [
    "# If you want to keep all entries from both DataFrames and not just the intersection, use 'outer' instead of 'inner'\n",
    "merged_df_outer = t_lever_before.merge(h_koizumi_before, left_on='text', right_on='body', how='outer')"
   ]
  },
  {
   "cell_type": "code",
   "execution_count": null,
   "id": "868190b3-1848-49fe-9b58-2ef1792cf01a",
   "metadata": {
    "tags": []
   },
   "outputs": [],
   "source": [
    "merged_df_outer.head(2)"
   ]
  },
  {
   "cell_type": "code",
   "execution_count": null,
   "id": "62187900-cb4c-4509-8d24-e7680f356b4f",
   "metadata": {
    "tags": []
   },
   "outputs": [],
   "source": [
    "t_lever_before = merged_df_outer"
   ]
  },
  {
   "cell_type": "code",
   "execution_count": null,
   "id": "2fa2c47c-dfc7-4da9-b252-d266ea984363",
   "metadata": {
    "tags": []
   },
   "outputs": [],
   "source": [
    "# Drop more columns - mostly irrelevant\n",
    "columns_to_drop = ['text', 'predicted_label']\n",
    "t_lever_before= t_lever_before.drop(columns=columns_to_drop)\n",
    "t_lever_before.head(2)"
   ]
  },
  {
   "cell_type": "code",
   "execution_count": null,
   "id": "5c7f1f21-1dfb-4970-be01-179ef2ed4063",
   "metadata": {
    "tags": []
   },
   "outputs": [],
   "source": [
    "# Rename column to body for everything merge on body\n",
    "t_lever_before.rename(columns={'prediction':'predicted_label'}, inplace = True)\n",
    "# Round the predicted_label values to the nearest integer (0 or 1)\n",
    "t_lever_before['predicted_label'] = t_lever_before['predicted_label'].round().astype(int)\n",
    "t_lever_before.head(1)"
   ]
  },
  {
   "cell_type": "code",
   "execution_count": null,
   "id": "2ae17698-40a8-4ec5-9a0e-e3046dad71ca",
   "metadata": {
    "tags": []
   },
   "outputs": [],
   "source": [
    "h_koizumi_before.head(1)"
   ]
  },
  {
   "cell_type": "markdown",
   "id": "d9b56373-829f-42b3-b19f-c7af29bbcf6c",
   "metadata": {
    "jp-MarkdownHeadingCollapsed": true,
    "tags": []
   },
   "source": [
    "#### Histogram Before "
   ]
  },
  {
   "cell_type": "code",
   "execution_count": null,
   "id": "8083b2ba-1ed3-482e-a514-837dead35477",
   "metadata": {
    "editable": true,
    "slideshow": {
     "slide_type": ""
    },
    "tags": []
   },
   "outputs": [],
   "source": [
    "# Data for imbalanced and balanced before policy change\n",
    "predictions_hist_before_tBimbal = before_policy_change_imbal['predicted_label'].tolist()\n",
    "predictions_hist_before_dB = h_koizumi_before['predicted_label'].tolist()\n",
    "predictions_hist_before_BB = t_lever_before['predicted_label'].tolist()\n",
    "predictions_hist_before_tBbal = before_policy_change_bal['predicted_label'].tolist()\n",
    "\n",
    "# Concatenate DataFrames \n",
    "hist_all_before = pd.concat([\n",
    "    before_policy_change_imbal.assign(Type='Hate Speech Imbalanced Data\\nModel: tinyBERT'),    \n",
    "    before_policy_change_bal.assign(Type='Hate Speech Balanced Data\\nModel: tinyBERT'),\n",
    "    h_koizumi_before.assign(Type='Ethos Data\\nModel: distilBERT'),    \n",
    "    t_lever_before.assign(Type='Hate Speech Imbalanced Data\\nModel: BERT'),    \n",
    "])\n",
    "\n",
    "# Save to csv\n",
    "hist_all_before.to_csv('hist_all_before.csv', index=False)\n",
    "\n",
    "# Start clock \n",
    "start_time = time.time()\n",
    "\n",
    "# Plot data\n",
    "sns.set(style=\"darkgrid\")\n",
    "plt.figure(figsize=(10, 6))\n",
    "ax = sns.histplot(data=hist_all_before_sorted, x='predicted_label', hue='Type', multiple='dodge',\n",
    "                  palette=['#ae76a3','#882e72','#4eb265','#5289c7'], edgecolor='#222255', \n",
    "                  binrange=(0, 1), bins=2, kde=False)\n",
    "\n",
    "# Define new tick positions and labels to change 0 and 1 to actual terms\n",
    "ticks = [0.25, 0.75]  \n",
    "labels = ['Not Labeled Hate as Speech', 'Labeled Hate as Speech']\n",
    "\n",
    "# Set x-axis ticks and labels\n",
    "ax.set_xticks(ticks)\n",
    "ax.set_xticklabels(labels)\n",
    "\n",
    "# Loop over the bars (patches) and add a text annotation with the height of each bar\n",
    "for p in ax.patches:\n",
    "    ax.text(x=p.get_x() + p.get_width() / 2, y=p.get_height(), s=int(p.get_height()), \n",
    "            ha='center', va='bottom', fontsize=12)\n",
    "\n",
    " # Add labels and title\n",
    "plt.yticks(fontsize=18) \n",
    "plt.xticks(fontsize=18) \n",
    "# Save and show plot\n",
    "plt.xlabel('Class', fontsize=20)\n",
    "plt.ylabel('Frequency (1e7)',fontsize =20)\n",
    "plt.title('Comparison of Predicted Classes Before Policy Change', fontsize = 20)   \n",
    " \n",
    "# End clock and print time taken\n",
    "end_time = time.time()\n",
    "print(\"Time taken: {:.2f} seconds\".format(end_time - start_time))\n",
    "\n",
    "# Save and show plot\n",
    "plt.savefig('before_compare_hist.png')\n",
    "plt.show()"
   ]
  },
  {
   "cell_type": "markdown",
   "id": "3cf99fd2-aa77-4e93-aaac-19ea8e8c966b",
   "metadata": {
    "tags": []
   },
   "source": [
    "### Histogram - Compare 4 Models After Policy Change Predictions"
   ]
  },
  {
   "cell_type": "markdown",
   "id": "592d3bf9-3f83-4e96-8b58-d2ce66b7c68c",
   "metadata": {
    "jp-MarkdownHeadingCollapsed": true,
    "tags": []
   },
   "source": [
    "#### Import and Set up "
   ]
  },
  {
   "cell_type": "code",
   "execution_count": null,
   "id": "9af2ee1b-d876-4800-beb3-fbe89d26d531",
   "metadata": {},
   "outputs": [],
   "source": [
    "# Load after tinyBert balanced results\n",
    "file_path = 'after_policy_change.feather'\n",
    "after_policy_change_imbal = pd.read_feather(file_path)"
   ]
  },
  {
   "cell_type": "code",
   "execution_count": null,
   "id": "73a6ce3b-56f5-45bf-9aca-5301902847ff",
   "metadata": {
    "tags": []
   },
   "outputs": [],
   "source": [
    "# Drop duplicate rows based on the 'body' column and keep first occurrence\n",
    "after_policy_change_imbal = after_policy_change_imbal.drop_duplicates(subset='body', \n",
    "                                                                      keep='first')\n",
    "# After dropping duplicates, check the number of rows to ensure duplicates removed\n",
    "print(after_policy_change_imbal.shape[0])"
   ]
  },
  {
   "cell_type": "code",
   "execution_count": null,
   "id": "78a73a33-bf61-41a6-ba55-0055130127b7",
   "metadata": {},
   "outputs": [],
   "source": [
    "# Load before tinyBert imbalanced results\n",
    "file_path = 'after_policy_change_bal.feather'\n",
    "after_policy_change_bal = pd.read_feather(file_path)"
   ]
  },
  {
   "cell_type": "code",
   "execution_count": null,
   "id": "c9c7855c-bbaf-4def-ad5c-e6b29b40de77",
   "metadata": {
    "tags": []
   },
   "outputs": [],
   "source": [
    "# Drop duplicate rows based on the 'body' column and keep first occurrence\n",
    "after_policy_change_bal = after_policy_change_bal.drop_duplicates(subset='body', \n",
    "                                                                      keep='first')\n",
    "# After dropping duplicates, check the number of rows to ensure duplicates removed\n",
    "print(after_policy_change_bal.shape[0])"
   ]
  },
  {
   "cell_type": "code",
   "execution_count": null,
   "id": "c3a6bc3f-9115-46c4-a75f-b7a36bc4fc09",
   "metadata": {},
   "outputs": [],
   "source": [
    "# Load t lever after results\n",
    "file_path = 't_lever_after.csv'\n",
    "t_lever_after = pd.read_csv(file_path)"
   ]
  },
  {
   "cell_type": "code",
   "execution_count": null,
   "id": "27c2ef22-11be-4d76-ab07-53c04fa96dd8",
   "metadata": {
    "tags": []
   },
   "outputs": [],
   "source": [
    "t_lever_after.head(1)"
   ]
  },
  {
   "cell_type": "code",
   "execution_count": null,
   "id": "b8911bc8-336a-4045-ae82-92505e38d84c",
   "metadata": {
    "tags": []
   },
   "outputs": [],
   "source": [
    "t_lever_after = t_lever_after.reset_index(drop=True)\n",
    "len(t_lever_after)"
   ]
  },
  {
   "cell_type": "code",
   "execution_count": null,
   "id": "67345f5d-cabe-4ad6-8228-b40a64c4f2b6",
   "metadata": {
    "tags": []
   },
   "outputs": [],
   "source": [
    "# Drop duplicate rows based on the 'text' column and keep first occurrence\n",
    "t_lever_after = t_lever_after.drop_duplicates(subset='body', keep='first')\n",
    "# After dropping duplicates, check the number of rows to ensure duplicates removed\n",
    "print(t_lever_after.shape[0])"
   ]
  },
  {
   "cell_type": "code",
   "execution_count": null,
   "id": "a842731b-f391-499c-90be-ed30d83e6881",
   "metadata": {},
   "outputs": [],
   "source": [
    "# Load h koizumi after results\n",
    "file_path = 'h_koizumi_after.csv'\n",
    "h_koizumi_after = pd.read_csv(file_path)"
   ]
  },
  {
   "cell_type": "code",
   "execution_count": null,
   "id": "30bdad64-9bad-453c-9c58-31221f243919",
   "metadata": {
    "tags": []
   },
   "outputs": [],
   "source": [
    "# Check the number of unique 'text' values \n",
    "unique_text_count = h_koizumi_after['body'].nunique()\n",
    "print(f\"Unique text: {unique_text_count}\")"
   ]
  },
  {
   "cell_type": "code",
   "execution_count": null,
   "id": "5ee46cf6-12c8-421f-bc7d-043223b6be1b",
   "metadata": {
    "tags": []
   },
   "outputs": [],
   "source": [
    "# Drop duplicate rows based on the 'text' column and keep first occurrence\n",
    "h_koizumi_after = h_koizumi_after.drop_duplicates(subset='body', keep='first')\n",
    "# After dropping duplicates, check the number of rows to ensure duplicates removed\n",
    "print(h_koizumi_after.shape[0])"
   ]
  },
  {
   "cell_type": "markdown",
   "id": "7ecfe420-938b-4112-a416-32a060492c6d",
   "metadata": {
    "jp-MarkdownHeadingCollapsed": true,
    "tags": []
   },
   "source": [
    "#### Histogram After"
   ]
  },
  {
   "cell_type": "code",
   "execution_count": null,
   "id": "3014e860-5114-47b6-a52c-da498a1d093a",
   "metadata": {
    "editable": true,
    "slideshow": {
     "slide_type": ""
    },
    "tags": []
   },
   "outputs": [],
   "source": [
    "# Data for imbalanced and balanced before policy change\n",
    "predictions_hist_after_tBimbal = after_policy_change_imbal['predicted_label'].tolist()\n",
    "predictions_hist_after_dB = h_koizumi_after['predicted_label'].tolist()\n",
    "predictions_hist_after_BB = t_lever_after['predicted_label'].tolist()\n",
    "predictions_hist_after_tBbal = after_policy_change_bal['predicted_label'].tolist()\n",
    "\n",
    "# Concatenate DataFrames \n",
    "hist_all_after = pd.concat([\n",
    "    after_policy_change_imbal.assign(Type='Hate Speech Imbalanced Data\\nModel: tinyBERT'),    \n",
    "    after_policy_change_bal.assign(Type='Hate Speech Balanced Data\\nModel: tinyBERT'),\n",
    "    h_koizumi_after.assign(Type='Ethos Data\\nModel: distilBERT'),    \n",
    "    t_lever_after.assign(Type='Hate Speech Imbalanced Data\\nModel: BERT'),    \n",
    "])\n",
    "\n",
    "# Save to csv\n",
    "hist_all_after.to_csv('hist_all_after.csv', index=False)\n",
    "\n",
    "start_time = time.time()\n",
    "\n",
    "# Plot histograms \n",
    "sns.set(style=\"darkgrid\")\n",
    "plt.figure(figsize=(10, 6))\n",
    "ax = sns.histplot(data=hist_all_after, x='predicted_label', hue='Type', multiple='dodge',\n",
    "                  palette=['#ae76a3','#882e72','#4eb265','#5289c7'],\n",
    "                  edgecolor='#222255', binrange=(0, 1), bins=2, kde=False)\n",
    "\n",
    "# Define new tick positions and labels\n",
    "ticks = [0.25, 0.75]  \n",
    "labels = ['Not Labeled as Hate Speech', 'Labeled as Hate Speech']\n",
    "\n",
    "# Set x-axis ticks and labels\n",
    "ax.set_xticks(ticks)\n",
    "ax.set_xticklabels(labels)  # Set one label per tick position\n",
    "\n",
    "# Loop over the bars (patches) and add text annotation with height of each bar\n",
    "for p in ax.patches:\n",
    "    height = p.get_height()  # Get bar height\n",
    "    # Place the text above bar\n",
    "    ax.text(x=p.get_x() + p.get_width() / 2, y=height + 0.01 * height, s=int(height), \n",
    "            ha='center', va='bottom', fontsize=12)\n",
    "\n",
    "\n",
    "# Add labels and title\n",
    "plt.yticks(fontsize=18) \n",
    "plt.xticks(fontsize=18) \n",
    "# Save and show plot\n",
    "plt.xlabel('Class', fontsize=20)\n",
    "plt.ylabel('Frequency (1e7)',fontsize =20)\n",
    "plt.title('Comparison of Predicted Classes After Policy Change', fontsize = 20)\n",
    "\n",
    "# End clock \n",
    "end_time = time.time()\n",
    "print(\"Time taken: {:.2f} seconds\".format(end_time - start_time))\n",
    "\n",
    "# Save and show plot\n",
    "plt.savefig('after_compare_hist.png')\n",
    "plt.show()"
   ]
  },
  {
   "cell_type": "code",
   "execution_count": null,
   "id": "726d9ed2-8ecd-48eb-857d-b18ee98cd68d",
   "metadata": {
    "tags": []
   },
   "outputs": [],
   "source": [
    "from PIL import Image\n",
    "\n",
    "# Open the images\n",
    "image1 = Image.open('before_compare_hist.png')\n",
    "image2 = Image.open('after_compare_hist.png')\n",
    "\n",
    "# Determine the new image dimensions\n",
    "width = max(image1.width, image2.width)\n",
    "total_height = image1.height + image2.height\n",
    "\n",
    "# Create a new image with the appropriate height to store the combined image\n",
    "new_image = Image.new('RGB', (width, total_height))\n",
    "\n",
    "# Paste the first image at the top\n",
    "new_image.paste(image1, (0, 0))\n",
    "\n",
    "# Paste the second image below the first one\n",
    "new_image.paste(image2, (0, image1.height))\n",
    "\n",
    "# Save the combined image\n",
    "combined_image_path = 'combined_histogram.png'\n",
    "new_image.save(combined_image_path)"
   ]
  },
  {
   "cell_type": "code",
   "execution_count": null,
   "id": "81736b31-9cec-4dde-97c3-3bcf2d4f4bc2",
   "metadata": {
    "tags": []
   },
   "outputs": [],
   "source": [
    "# Load the images\n",
    "image1 = Image.open('before_compare_hist.png')\n",
    "image2 = Image.open('after_compare_hist.png')\n",
    "\n",
    "# Determine the new image dimensions\n",
    "total_width = image1.width + image2.width\n",
    "height = max(image1.height, image2.height)\n",
    "\n",
    "# Create a new image with the appropriate width to store the combined image\n",
    "new_image = Image.new('RGB', (total_width, height))\n",
    "\n",
    "# Paste the first image on the left\n",
    "new_image.paste(image1, (0, 0))\n",
    "\n",
    "# Paste the second image to the right of the first one\n",
    "new_image.paste(image2, (image1.width, 0))\n",
    "\n",
    "# Save the combined image\n",
    "combined_image_path = 'combined_histogram_side_by_side.png'\n",
    "new_image.save(combined_image_path)"
   ]
  },
  {
   "cell_type": "code",
   "execution_count": null,
   "id": "fc28923f-e727-4720-946c-014efe3c7236",
   "metadata": {
    "tags": []
   },
   "outputs": [],
   "source": [
    "# Open the images\n",
    "image3 = Image.open('combined_histogram_side_by_side.png')\n",
    "image3"
   ]
  },
  {
   "cell_type": "markdown",
   "id": "f090e096-00f0-4082-bfd3-4ed96130ddbf",
   "metadata": {},
   "source": [
    "### Top 10 Subreddits Before and After"
   ]
  },
  {
   "cell_type": "markdown",
   "id": "de212c99-359c-431e-a698-0aa8840f6840",
   "metadata": {
    "jp-MarkdownHeadingCollapsed": true,
    "tags": []
   },
   "source": [
    "#### Top 10 Before"
   ]
  },
  {
   "cell_type": "code",
   "execution_count": null,
   "id": "f10caa8f-9f30-4f5b-8bcb-5c0b4c226b2a",
   "metadata": {
    "tags": []
   },
   "outputs": [],
   "source": [
    "hist_all_before.head(2)"
   ]
  },
  {
   "cell_type": "code",
   "execution_count": null,
   "id": "66a9ee7f-4e90-4689-bd5e-b1be123304d0",
   "metadata": {
    "tags": []
   },
   "outputs": [],
   "source": [
    "import pandas as pd\n",
    "import seaborn as sns\n",
    "import matplotlib.pyplot as plt\n",
    "from matplotlib.ticker import FuncFormatter\n",
    "\n",
    "# Filter out rows where predictions are 1 (Labeled Hate Speech)\n",
    "predictions_one = hist_all_before[hist_all_before['predicted_label'] == 1]\n",
    "\n",
    "# Ensure the subreddit is index for predictions_one DataFrame\n",
    "predictions_one.set_index('subreddit', inplace=True)\n",
    "\n",
    "# Group by subreddit and model, count predictions\n",
    "grouped_data = predictions_one.groupby(['subreddit', 'Type']).size().unstack(fill_value=0)\n",
    "\n",
    "# Select top 10 subreddits based on total counts across all models\n",
    "top_subreddits = grouped_data.sum(axis=1).nlargest(10).index\n",
    "\n",
    "# Select rows of top subreddits\n",
    "top_grouped_data = grouped_data.loc[top_subreddits]\n",
    "\n",
    "# Define desired order \n",
    "model_order = [\n",
    "    'Hate Speech Balanced Data\\nModel: tinyBERT',\n",
    "    'Hate Speech Imbalanced Data\\nModel: BERT',\n",
    "    'Ethos Data\\nModel: distilBERT',\n",
    "    'Hate Speech Imbalanced Data\\nModel: tinyBERT',\n",
    "]\n",
    "\n",
    "# Reindex DataFrame columns according to model order\n",
    "top_grouped_data = top_grouped_data[model_order]\n",
    "\n",
    "# Define color map \n",
    "color_map = {\n",
    "    'Hate Speech Imbalanced Data\\nModel: BERT': '#5289c7',\n",
    "    'Hate Speech Balanced Data\\nModel: tinyBERT': '#ae76a3',\n",
    "    'Ethos Data\\nModel: distilBERT': '#4eb265',\n",
    "    'Hate Speech Imbalanced Data\\nModel: tinyBERT': '#882e72',\n",
    "}\n",
    "\n",
    "# Assign colors to each model in specified order\n",
    "colors = [color_map[model] for model in model_order]\n",
    "\n",
    "# Function to format tick labels with commas\n",
    "def with_commas(x, pos):\n",
    "    return f\"{x:,.0f}\"\n",
    "\n",
    "# Create the formatter using the function above\n",
    "formatter = FuncFormatter(with_commas)\n",
    "\n",
    "# Plot stacked bar chart with custom colors and specified model order\n",
    "ax = top_grouped_data.plot(kind='barh', stacked=True, figsize=(14, 14), color=colors)\n",
    "# Set the formatter for the x-axis\n",
    "plt.gca().xaxis.set_major_formatter(formatter)\n",
    "ax.invert_yaxis()\n",
    "plt.yticks(fontsize=18) \n",
    "plt.xticks(fontsize=18) \n",
    "plt.title('Top 10 Subreddits by Predictions Labeled as Hate Speech by Model\\nBefore Policy Change', fontsize=20)  # Adjust the fontsize as needed\n",
    "ax.set_xlabel('Number of Predictions', fontsize=20)\n",
    "ax.set_ylabel('Subreddit', fontsize = 20)\n",
    "plt.legend(fontsize = 20)\n",
    "# Save and show plot\n",
    "plt.savefig('before_compare_top_10.png')\n",
    "plt.show()"
   ]
  },
  {
   "cell_type": "markdown",
   "id": "254a376c-cc3d-49db-9361-52e9971e3930",
   "metadata": {
    "jp-MarkdownHeadingCollapsed": true,
    "tags": []
   },
   "source": [
    "#### Top 10 After"
   ]
  },
  {
   "cell_type": "code",
   "execution_count": null,
   "id": "27d3ab6c-7199-434b-b166-7e22f3cc4ac8",
   "metadata": {
    "tags": []
   },
   "outputs": [],
   "source": [
    "hist_all_after.head(2)"
   ]
  },
  {
   "cell_type": "code",
   "execution_count": null,
   "id": "c85fa53e-a1c9-44b0-9981-272d18e6d9aa",
   "metadata": {
    "tags": []
   },
   "outputs": [],
   "source": [
    "# Filter out rows where predictions are 1 (Labeled Hate Speech)\n",
    "predictions_one = hist_all_after[hist_all_after['predicted_label'] == 1]\n",
    "\n",
    "# Ensure the subreddit is the index for the predictions_one DataFrame\n",
    "predictions_one.set_index('subreddit', inplace=True)\n",
    "\n",
    "# Group by subreddit and model, then count the predictions\n",
    "grouped_data = predictions_one.groupby(['subreddit', 'Type']).size().unstack(fill_value=0)\n",
    "\n",
    "# Now select the top 10 subreddits based on the total counts across all models\n",
    "top_subreddits = grouped_data.sum(axis=1).nlargest(10).index\n",
    "\n",
    "# Select the rows of these top subreddits\n",
    "top_grouped_data = grouped_data.loc[top_subreddits]\n",
    "\n",
    "# Define the desired order for your models\n",
    "model_order = [\n",
    "    'Hate Speech Balanced Data\\nModel: tinyBERT',\n",
    "    'Hate Speech Imbalanced Data\\nModel: BERT',\n",
    "    'Ethos Data\\nModel: distilBERT',\n",
    "    'Hate Speech Imbalanced Data\\nModel: tinyBERT',\n",
    "]\n",
    "\n",
    "# Reindex the DataFrame columns according to the specified model order\n",
    "# This will sort the columns and, as a result, sort the stack order in the chart\n",
    "top_grouped_data = top_grouped_data[model_order]\n",
    "\n",
    "# Define a color map for your models (same as before)\n",
    "color_map = {\n",
    "    'Hate Speech Imbalanced Data\\nModel: BERT': '#5289c7',\n",
    "    'Hate Speech Balanced Data\\nModel: tinyBERT': '#ae76a3',\n",
    "    'Ethos Data\\nModel: distilBERT': '#4eb265',\n",
    "    'Hate Speech Imbalanced Data\\nModel: tinyBERT': '#882e72',\n",
    "}\n",
    "\n",
    "# Assign colors to each model in the specified order\n",
    "colors = [color_map[model] for model in model_order]\n",
    "\n",
    "# Function to format tick labels with commas\n",
    "def with_commas(x, pos):\n",
    "    return f\"{x:,.0f}\"\n",
    "\n",
    "# Create the formatter using the function above\n",
    "formatter = FuncFormatter(with_commas)\n",
    "\n",
    "# Plot stacked bar chart with custom colors and specified model order\n",
    "ax = top_grouped_data.plot(kind='barh', stacked=True, figsize=(14, 14), color=colors)\n",
    "# Set the formatter for the x-axis\n",
    "plt.gca().xaxis.set_major_formatter(formatter)\n",
    "ax.invert_yaxis()\n",
    "plt.yticks(fontsize=18) \n",
    "plt.xticks(fontsize=18) \n",
    "plt.title('Top 10 Subreddits by Predictions Labeled as Hate Speech by Model\\nAfter Policy Change', fontsize=20)  # Adjust the fontsize as needed\n",
    "ax.set_xlabel('Number of Predictions', fontsize=20)\n",
    "ax.set_ylabel('Subreddit', fontsize = 20)\n",
    "plt.legend(fontsize = 20)\n",
    "plt.savefig('after_compare_top_10.png')\n",
    "plt.show()"
   ]
  },
  {
   "cell_type": "code",
   "execution_count": null,
   "id": "da7675b3-8fac-4a5e-86d4-5544b85a3214",
   "metadata": {
    "tags": []
   },
   "outputs": [],
   "source": [
    "# Load the images\n",
    "image1 = Image.open('before_compare_top_10.png')\n",
    "image2 = Image.open('after_compare_top_10.png')\n",
    "\n",
    "# Determine the new image dimensions\n",
    "total_width = image1.width + image2.width\n",
    "height = max(image1.height, image2.height)\n",
    "\n",
    "# Create a new image with the appropriate width to store the combined image\n",
    "new_image = Image.new('RGB', (total_width, height))\n",
    "\n",
    "# Paste the first image on the left\n",
    "new_image.paste(image1, (0, 0))\n",
    "\n",
    "# Paste the second image to the right of the first one\n",
    "new_image.paste(image2, (image1.width, 0))\n",
    "\n",
    "# Save the combined image\n",
    "combined_image_path = 'combined_top_10.png'\n",
    "new_image.save(combined_image_path)"
   ]
  },
  {
   "cell_type": "code",
   "execution_count": null,
   "id": "3aac2e4f-6c1f-4e0f-aa83-faf4a4a43a08",
   "metadata": {
    "tags": []
   },
   "outputs": [],
   "source": [
    "# Open the images\n",
    "image3 = Image.open('combined_top_10.png')\n",
    "image3"
   ]
  },
  {
   "cell_type": "code",
   "execution_count": null,
   "id": "4cb26169-8797-46c0-87c3-a9a47b83061c",
   "metadata": {
    "tags": []
   },
   "outputs": [],
   "source": [
    "import matplotlib.pyplot as plt\n",
    "import pandas as pd\n",
    "\n",
    "# Filter out rows where predictions are 1 (Labeled Hate Speech)\n",
    "predictions_one = hist_all_before[hist_all_before['predicted_label'] == 1]\n",
    "\n",
    "# Now group by subreddit and model, then count the predictions\n",
    "grouped_predictions = predictions_one.groupby(['subreddit', 'Type']).size().reset_index(name='counts')\n",
    "\n",
    "# Get unique model types to loop through\n",
    "unique_models = grouped_predictions['Type'].unique()\n",
    "\n",
    "# Set up a grid of plots based on the number of unique models\n",
    "num_models = len(unique_models)\n",
    "cols = 2  # Specify the number of columns in your subplot grid\n",
    "rows = (num_models + 1) // cols  # Calculate the number of rows needed\n",
    "\n",
    "fig, axs = plt.subplots(rows, cols, figsize=(20, 20))  # Adjust the size as necessary\n",
    "axs = axs.flatten()  # Flatten the array of axes for easy iteration\n",
    "\n",
    "\n",
    "# Define a color map for your models (same as before)\n",
    "color_map = {\n",
    "    'Hate Speech Imbalanced Data\\nModel: BERT': '#5289c7',\n",
    "    'Hate Speech Balanced Data\\nModel: tinyBERT': '#ae76a3',\n",
    "    'Ethos Data\\nModel: distilBERT': '#4eb265',\n",
    "    'Hate Speech Imbalanced Data\\nModel: tinyBERT': '#882e72',\n",
    "}\n",
    "\n",
    "# Loop over each unique model and create a subplot for the top 10 subreddits for that model\n",
    "for i, model in enumerate(unique_models):\n",
    "    # Get the top 10 subreddits for the current model\n",
    "    model_data = grouped_predictions[grouped_predictions['Type'] == model].nlargest(10, 'counts')\n",
    "    \n",
    "    # Check if model_data is not empty\n",
    "    if not model_data.empty:\n",
    "        # Plot the data in the corresponding subplot using the color assigned to the model\n",
    "        ax = axs[i]\n",
    "        color = color_map.get(model, 'grey')  # Use the default color if the model isn't in the dictionary\n",
    "        model_data.plot(kind='barh', x='subreddit', y='counts', ax=ax, color=color, title=f'Top 10 Subreddits for {model}')\n",
    "        ax.set_xlabel('Number of Predictions Labeled as Hate Speech')\n",
    "        ax.set_ylabel('Subreddit')\n",
    "        ax.invert_yaxis()  # This will reverse the order of the bars\n",
    "    else:\n",
    "        # If model_data is empty, remove the subplot\n",
    "        fig.delaxes(axs[i])\n",
    "# If there are more subplots than models, remove the extra subplots\n",
    "for j in range(i+1, len(axs)):\n",
    "    fig.delaxes(axs[j])\n",
    "\n",
    "# Adjust the layout to prevent overlapping\n",
    "plt.tight_layout()\n",
    "plt.savefig('after_compare_top_10.png')\n",
    "# Show the plot\n",
    "plt.show()\n"
   ]
  },
  {
   "cell_type": "markdown",
   "id": "90fc9257-f27b-42cf-a761-2341fd73d590",
   "metadata": {
    "jp-MarkdownHeadingCollapsed": true,
    "tags": []
   },
   "source": [
    "### Qualitative Viz Before"
   ]
  },
  {
   "cell_type": "code",
   "execution_count": 78,
   "id": "ce98eb55-8524-43aa-806e-8c38a5df63b9",
   "metadata": {
    "editable": true,
    "slideshow": {
     "slide_type": ""
    },
    "tags": []
   },
   "outputs": [],
   "source": [
    "# Load file\n",
    "file_path = 'before_sample_one_500_tl_lc_hk.csv'\n",
    "before_sample_one_500 = pd.read_csv(file_path)"
   ]
  },
  {
   "cell_type": "code",
   "execution_count": 80,
   "id": "9a63b464-bcbb-478f-872c-9a2e5d56f89a",
   "metadata": {
    "tags": []
   },
   "outputs": [
    {
     "data": {
      "text/plain": [
       "500"
      ]
     },
     "execution_count": 80,
     "metadata": {},
     "output_type": "execute_result"
    }
   ],
   "source": [
    "len(before_sample_one_500)"
   ]
  },
  {
   "cell_type": "code",
   "execution_count": 82,
   "id": "9bfcc9e9-a672-4e30-89cc-ca1e3a15e531",
   "metadata": {
    "tags": []
   },
   "outputs": [
    {
     "data": {
      "text/plain": [
       "body                object\n",
       "tinyB_imbal_pred     int64\n",
       "tinyB_bal_pred       int64\n",
       "BERT_pred            int64\n",
       "distilB_pred         int64\n",
       "koizumi              int64\n",
       "Lever                int64\n",
       "Couch                int64\n",
       "subreddit           object\n",
       "subreddit_id        object\n",
       "created_utc         object\n",
       "parent_id           object\n",
       "subreddit_type      object\n",
       "merge_tl            object\n",
       "merge_hk            object\n",
       "dtype: object"
      ]
     },
     "execution_count": 82,
     "metadata": {},
     "output_type": "execute_result"
    }
   ],
   "source": [
    "# Check data types\n",
    "before_sample_one_500.dtypes"
   ]
  },
  {
   "cell_type": "code",
   "execution_count": 84,
   "id": "e5ace942-ef6b-4703-bc66-ec0069b1808d",
   "metadata": {},
   "outputs": [
    {
     "data": {
      "text/html": [
       "<div>\n",
       "<style scoped>\n",
       "    .dataframe tbody tr th:only-of-type {\n",
       "        vertical-align: middle;\n",
       "    }\n",
       "\n",
       "    .dataframe tbody tr th {\n",
       "        vertical-align: top;\n",
       "    }\n",
       "\n",
       "    .dataframe thead th {\n",
       "        text-align: right;\n",
       "    }\n",
       "</style>\n",
       "<table border=\"1\" class=\"dataframe\">\n",
       "  <thead>\n",
       "    <tr style=\"text-align: right;\">\n",
       "      <th></th>\n",
       "      <th>body</th>\n",
       "      <th>TinyBert Imbalanced</th>\n",
       "      <th>TinyBert Balanced</th>\n",
       "      <th>BERT Imbalanced</th>\n",
       "      <th>distilBERT Ethos</th>\n",
       "      <th>H Koizumi</th>\n",
       "      <th>T Lever</th>\n",
       "      <th>L Couch</th>\n",
       "      <th>subreddit</th>\n",
       "    </tr>\n",
       "  </thead>\n",
       "  <tbody>\n",
       "    <tr>\n",
       "      <th>0</th>\n",
       "      <td>0000 0047</td>\n",
       "      <td>0</td>\n",
       "      <td>0</td>\n",
       "      <td>0</td>\n",
       "      <td>0</td>\n",
       "      <td>0</td>\n",
       "      <td>0</td>\n",
       "      <td>0</td>\n",
       "      <td>pokemontrades</td>\n",
       "    </tr>\n",
       "  </tbody>\n",
       "</table>\n",
       "</div>"
      ],
      "text/plain": [
       "        body  TinyBert Imbalanced  TinyBert Balanced  BERT Imbalanced  \\\n",
       "0  0000 0047                    0                  0                0   \n",
       "\n",
       "   distilBERT Ethos  H Koizumi  T Lever  L Couch      subreddit  \n",
       "0                 0          0        0        0  pokemontrades  "
      ]
     },
     "execution_count": 84,
     "metadata": {},
     "output_type": "execute_result"
    }
   ],
   "source": [
    "# Rename columns for clarity\n",
    "before_sample_one_500 = before_sample_one_500.rename(columns={'tinyB_imbal_pred':'TinyBert Imbalanced', 'tinyB_bal_pred': 'TinyBert Balanced', \n",
    "                                        'BERT_pred': 'BERT Imbalanced', 'distilB_pred':'distilBERT Ethos', 'koizumi':'H Koizumi', 'Lever': 'T Lever', 'Couch': 'L Couch'})\n",
    "before_sample_one_matrix = before_sample_one_500.drop(columns={'subreddit_id','created_utc', 'parent_id', 'subreddit_type','merge_tl','merge_hk'})\n",
    "before_sample_one_matrix['H Koizumi'] = before_sample_one_matrix['H Koizumi'].astype(int)\n",
    "before_sample_one_matrix.head(1)"
   ]
  },
  {
   "cell_type": "code",
   "execution_count": 87,
   "id": "e33b9b2f-dd74-4f6c-9362-b396d8ef24bc",
   "metadata": {
    "tags": []
   },
   "outputs": [
    {
     "data": {
      "text/html": [
       "<div>\n",
       "<style scoped>\n",
       "    .dataframe tbody tr th:only-of-type {\n",
       "        vertical-align: middle;\n",
       "    }\n",
       "\n",
       "    .dataframe tbody tr th {\n",
       "        vertical-align: top;\n",
       "    }\n",
       "\n",
       "    .dataframe thead th {\n",
       "        text-align: right;\n",
       "    }\n",
       "</style>\n",
       "<table border=\"1\" class=\"dataframe\">\n",
       "  <thead>\n",
       "    <tr style=\"text-align: right;\">\n",
       "      <th></th>\n",
       "      <th>body</th>\n",
       "      <th>TinyBert Imbalanced</th>\n",
       "      <th>TinyBert Balanced</th>\n",
       "      <th>BERT Imbalanced</th>\n",
       "      <th>distilBERT Ethos</th>\n",
       "      <th>H Koizumi</th>\n",
       "      <th>T Lever</th>\n",
       "      <th>L Couch</th>\n",
       "      <th>subreddit</th>\n",
       "    </tr>\n",
       "  </thead>\n",
       "  <tbody>\n",
       "    <tr>\n",
       "      <th>body</th>\n",
       "      <td>1.0</td>\n",
       "      <td>0.0</td>\n",
       "      <td>0.0</td>\n",
       "      <td>0.0</td>\n",
       "      <td>0.0</td>\n",
       "      <td>0.0</td>\n",
       "      <td>0.0</td>\n",
       "      <td>0.0</td>\n",
       "      <td>0.0</td>\n",
       "    </tr>\n",
       "    <tr>\n",
       "      <th>TinyBert Imbalanced</th>\n",
       "      <td>0.0</td>\n",
       "      <td>1.0</td>\n",
       "      <td>0.65</td>\n",
       "      <td>0.942</td>\n",
       "      <td>0.914</td>\n",
       "      <td>0.892</td>\n",
       "      <td>0.894</td>\n",
       "      <td>0.916</td>\n",
       "      <td>0.0</td>\n",
       "    </tr>\n",
       "    <tr>\n",
       "      <th>TinyBert Balanced</th>\n",
       "      <td>0.0</td>\n",
       "      <td>0.65</td>\n",
       "      <td>1.0</td>\n",
       "      <td>0.636</td>\n",
       "      <td>0.604</td>\n",
       "      <td>0.574</td>\n",
       "      <td>0.632</td>\n",
       "      <td>0.602</td>\n",
       "      <td>0.0</td>\n",
       "    </tr>\n",
       "    <tr>\n",
       "      <th>BERT Imbalanced</th>\n",
       "      <td>0.0</td>\n",
       "      <td>0.942</td>\n",
       "      <td>0.636</td>\n",
       "      <td>1.0</td>\n",
       "      <td>0.916</td>\n",
       "      <td>0.886</td>\n",
       "      <td>0.896</td>\n",
       "      <td>0.914</td>\n",
       "      <td>0.0</td>\n",
       "    </tr>\n",
       "    <tr>\n",
       "      <th>distilBERT Ethos</th>\n",
       "      <td>0.0</td>\n",
       "      <td>0.914</td>\n",
       "      <td>0.604</td>\n",
       "      <td>0.916</td>\n",
       "      <td>1.0</td>\n",
       "      <td>0.926</td>\n",
       "      <td>0.904</td>\n",
       "      <td>0.95</td>\n",
       "      <td>0.0</td>\n",
       "    </tr>\n",
       "    <tr>\n",
       "      <th>H Koizumi</th>\n",
       "      <td>0.0</td>\n",
       "      <td>0.892</td>\n",
       "      <td>0.574</td>\n",
       "      <td>0.886</td>\n",
       "      <td>0.926</td>\n",
       "      <td>1.0</td>\n",
       "      <td>0.89</td>\n",
       "      <td>0.94</td>\n",
       "      <td>0.0</td>\n",
       "    </tr>\n",
       "    <tr>\n",
       "      <th>T Lever</th>\n",
       "      <td>0.0</td>\n",
       "      <td>0.894</td>\n",
       "      <td>0.632</td>\n",
       "      <td>0.896</td>\n",
       "      <td>0.904</td>\n",
       "      <td>0.89</td>\n",
       "      <td>1.0</td>\n",
       "      <td>0.906</td>\n",
       "      <td>0.0</td>\n",
       "    </tr>\n",
       "    <tr>\n",
       "      <th>L Couch</th>\n",
       "      <td>0.0</td>\n",
       "      <td>0.916</td>\n",
       "      <td>0.602</td>\n",
       "      <td>0.914</td>\n",
       "      <td>0.95</td>\n",
       "      <td>0.94</td>\n",
       "      <td>0.906</td>\n",
       "      <td>1.0</td>\n",
       "      <td>0.0</td>\n",
       "    </tr>\n",
       "    <tr>\n",
       "      <th>subreddit</th>\n",
       "      <td>0.0</td>\n",
       "      <td>0.0</td>\n",
       "      <td>0.0</td>\n",
       "      <td>0.0</td>\n",
       "      <td>0.0</td>\n",
       "      <td>0.0</td>\n",
       "      <td>0.0</td>\n",
       "      <td>0.0</td>\n",
       "      <td>1.0</td>\n",
       "    </tr>\n",
       "  </tbody>\n",
       "</table>\n",
       "</div>"
      ],
      "text/plain": [
       "                    body TinyBert Imbalanced TinyBert Balanced  \\\n",
       "body                 1.0                 0.0               0.0   \n",
       "TinyBert Imbalanced  0.0                 1.0              0.65   \n",
       "TinyBert Balanced    0.0                0.65               1.0   \n",
       "BERT Imbalanced      0.0               0.942             0.636   \n",
       "distilBERT Ethos     0.0               0.914             0.604   \n",
       "H Koizumi            0.0               0.892             0.574   \n",
       "T Lever              0.0               0.894             0.632   \n",
       "L Couch              0.0               0.916             0.602   \n",
       "subreddit            0.0                 0.0               0.0   \n",
       "\n",
       "                    BERT Imbalanced distilBERT Ethos H Koizumi T Lever  \\\n",
       "body                            0.0              0.0       0.0     0.0   \n",
       "TinyBert Imbalanced           0.942            0.914     0.892   0.894   \n",
       "TinyBert Balanced             0.636            0.604     0.574   0.632   \n",
       "BERT Imbalanced                 1.0            0.916     0.886   0.896   \n",
       "distilBERT Ethos              0.916              1.0     0.926   0.904   \n",
       "H Koizumi                     0.886            0.926       1.0    0.89   \n",
       "T Lever                       0.896            0.904      0.89     1.0   \n",
       "L Couch                       0.914             0.95      0.94   0.906   \n",
       "subreddit                       0.0              0.0       0.0     0.0   \n",
       "\n",
       "                    L Couch subreddit  \n",
       "body                    0.0       0.0  \n",
       "TinyBert Imbalanced   0.916       0.0  \n",
       "TinyBert Balanced     0.602       0.0  \n",
       "BERT Imbalanced       0.914       0.0  \n",
       "distilBERT Ethos       0.95       0.0  \n",
       "H Koizumi              0.94       0.0  \n",
       "T Lever               0.906       0.0  \n",
       "L Couch                 1.0       0.0  \n",
       "subreddit               0.0       1.0  "
      ]
     },
     "execution_count": 87,
     "metadata": {},
     "output_type": "execute_result"
    }
   ],
   "source": [
    "# Function to calculate pairwise agreement between columns\n",
    "def pairwise_agreement(df):\n",
    "    columns = df.columns\n",
    "    agreement_df = pd.DataFrame(index=columns, columns=columns)\n",
    "    \n",
    "    for col1 in columns:\n",
    "        for col2 in columns:\n",
    "            agreement_df.loc[col1, col2] = (df[col1] == df[col2]).mean()\n",
    "            \n",
    "    return agreement_df\n",
    "\n",
    "# Calculate pairwise agreement\n",
    "consistency_matrix = pairwise_agreement(before_sample_one_matrix.dropna())\n",
    "consistency_matrix"
   ]
  },
  {
   "cell_type": "code",
   "execution_count": 89,
   "id": "38a524f9-8535-4f3c-81ef-d853c84dca16",
   "metadata": {},
   "outputs": [
    {
     "data": {
      "image/png": "[encoded data removed]",
      "text/plain": [
       "<Figure size 1500x800 with 8 Axes>"
      ]
     },
     "metadata": {},
     "output_type": "display_data"
    }
   ],
   "source": [
    "# Exclude the 'body' and 'subreddit' columns from matrix\n",
    "model_columns = [col for col in consistency_matrix.columns if col not in ['body', 'subreddit']]\n",
    "filtered_matrix = consistency_matrix.loc[model_columns, model_columns]\n",
    "\n",
    "#https://networkx.org/documentation/stable/auto_examples/drawing/plot_custom_node_icons.html\n",
    "icons = {\n",
    "    'TinyBert Imbalanced': 'Huawei.png',   \n",
    "    'TinyBert Balanced': 'Huawei.png',\n",
    "    'BERT Imbalanced': 'google_icon.png',\n",
    "    'distilBERT Ethos': 'hf-logo.png',\n",
    "    'H Koizumi': 'HK.png',\n",
    "    'T Lever': 'tl.png',\n",
    "    'L Couch': 'lc.png',   \n",
    "    \n",
    "}\n",
    "\n",
    "# Load images\n",
    "images = {k: Image.open(fname) for k, fname in icons.items()}\n",
    "\n",
    "color_map = {\n",
    "    'TinyBert Imbalanced': '#ae76a3',   \n",
    "    'TinyBert Balanced': '#882e72',    \n",
    "    'BERT Imbalanced': '#5289c7',\n",
    "    'distilBERT Ethos': '#4eb265',\n",
    "    'H Koizumi': '#fb9a29',\n",
    "    'T Lever': '#ec7014',\n",
    "    'L Couch': '#cc4c02',   \n",
    "}\n",
    "\n",
    "\n",
    "G = nx.Graph()\n",
    "\n",
    "# Add nodes and edges with weights\n",
    "for i, model1 in enumerate(filtered_matrix.columns):\n",
    "    for j, model2 in enumerate(filtered_matrix.columns):\n",
    "        if i < j:\n",
    "            weight = filtered_matrix.loc[model1, model2]\n",
    "            if weight > 0.5:  # Thresholding to only show stronger agreements\n",
    "                G.add_edge(model1, model2, weight=weight)\n",
    "\n",
    "\n",
    "for node in G.nodes():\n",
    "    G.nodes[node]['image'] = images[node]\n",
    "    \n",
    "plt.figure(figsize=(15,8)) #facecolor = 'lightblue'\n",
    "plt.title('Prediction Relationships Before Policy Change\\nbetween Models & Team Members', \n",
    "          fontsize=20, fontweight='bold')\n",
    "\n",
    "pos = nx.spring_layout(G, seed = 44)  \n",
    "\n",
    "# Offset for labels \n",
    "label_offset_y = -0.1  \n",
    "\n",
    "# Modified label positions\n",
    "label_pos = {node: (pos[node][0], pos[node][1] - label_offset_y) for node in G.nodes()}\n",
    "\n",
    "# Draw the network without nodes \n",
    "edge_weights = np.array([G[u][v]['weight'] for u, v in G.edges()])\n",
    "weights = np.array([G[u][v]['weight'] for u, v in G.edges()])\n",
    "normalized_weights = (weights - min(weights)) / (max(weights) - min(weights))\n",
    "enhanced_weights = normalized_weights *2\n",
    "\n",
    "edge_colors = [color_map[u] for u, v in G.edges()] \n",
    "\n",
    "# Transform coordinates for placing images)\n",
    "ax = plt.gca()\n",
    "ax.set_facecolor('#DDDDDD') \n",
    "fig = plt.gcf()\n",
    "trans = ax.transData.transform\n",
    "trans_fig = fig.transFigure.inverted().transform\n",
    "\n",
    "nx.draw_networkx_edges(G, pos, edge_color=edge_colors, width=enhanced_weights, ax=ax)\n",
    "nx.draw_networkx_labels(G, label_pos, font_size=14, font_weight = 'bold', ax=ax)\n",
    "\n",
    "# image size\n",
    "size = 0.06  \n",
    "\n",
    "# Draw images last so that they are on top, with a higher zorder to ensure visibility\n",
    "for node in G.nodes():\n",
    "    image = G.nodes[node]['image']\n",
    "    (x, y) = pos[node]\n",
    "    xx, yy = trans((x, y))  # data to display coordinates\n",
    "    xa, ya = trans_fig((xx, yy))  # display to figure coordinates\n",
    "    a = plt.axes([xa - size/2.0, ya - size/2.0, size, size], zorder=3)\n",
    "    a.imshow(image)\n",
    "    a.set_aspect('equal')\n",
    "    a.axis('off')\n",
    "    \n",
    "# edge colors     \n",
    "nx.draw_networkx_edges(G, pos, edgelist=G.edges(), width=weights * 5, edge_color=edge_colors, ax=ax)\n",
    "\n",
    "# Display graph\n",
    "plt.axis('off') \n",
    "plt.savefig('network_before.png')\n",
    "plt.show()"
   ]
  },
  {
   "cell_type": "markdown",
   "id": "b4c06e10-143f-463e-8450-4f9fbd39f3ad",
   "metadata": {
    "jp-MarkdownHeadingCollapsed": true,
    "tags": []
   },
   "source": [
    "### Qualitative Viz After"
   ]
  },
  {
   "cell_type": "code",
   "execution_count": 92,
   "id": "e6cfe215-0f15-464d-b06d-6582f26072c4",
   "metadata": {
    "editable": true,
    "slideshow": {
     "slide_type": ""
    },
    "tags": []
   },
   "outputs": [],
   "source": [
    "file_path = 'Reddit Qualitative Analysis Coding_After.csv'\n",
    "after_sample_one_500 = pd.read_csv(file_path)"
   ]
  },
  {
   "cell_type": "code",
   "execution_count": 94,
   "id": "650d104b-aeef-4e5c-9e03-f6fd7d6f05fd",
   "metadata": {
    "tags": []
   },
   "outputs": [
    {
     "data": {
      "text/plain": [
       "491"
      ]
     },
     "execution_count": 94,
     "metadata": {},
     "output_type": "execute_result"
    }
   ],
   "source": [
    "len(after_sample_one_500)"
   ]
  },
  {
   "cell_type": "code",
   "execution_count": 96,
   "id": "b5b81cab-95b0-4869-bee3-5eb2876c5056",
   "metadata": {
    "tags": []
   },
   "outputs": [
    {
     "data": {
      "text/html": [
       "<div>\n",
       "<style scoped>\n",
       "    .dataframe tbody tr th:only-of-type {\n",
       "        vertical-align: middle;\n",
       "    }\n",
       "\n",
       "    .dataframe tbody tr th {\n",
       "        vertical-align: top;\n",
       "    }\n",
       "\n",
       "    .dataframe thead th {\n",
       "        text-align: right;\n",
       "    }\n",
       "</style>\n",
       "<table border=\"1\" class=\"dataframe\">\n",
       "  <thead>\n",
       "    <tr style=\"text-align: right;\">\n",
       "      <th></th>\n",
       "      <th>body</th>\n",
       "      <th>tinyB_imbal_pred</th>\n",
       "      <th>tinyB_bal_pred</th>\n",
       "      <th>BERT_pred</th>\n",
       "      <th>distilB_pred</th>\n",
       "      <th>HK Blind Label</th>\n",
       "      <th>Lorinda</th>\n",
       "      <th>Tom</th>\n",
       "      <th>subreddit</th>\n",
       "      <th>subreddit_id</th>\n",
       "      <th>created_utc</th>\n",
       "      <th>parent_id</th>\n",
       "      <th>subreddit_type</th>\n",
       "      <th>merge_tl</th>\n",
       "      <th>merge_hk</th>\n",
       "    </tr>\n",
       "  </thead>\n",
       "  <tbody>\n",
       "    <tr>\n",
       "      <th>0</th>\n",
       "      <td>lunik war eine tolle band</td>\n",
       "      <td>0</td>\n",
       "      <td>1</td>\n",
       "      <td>1</td>\n",
       "      <td>0</td>\n",
       "      <td>0</td>\n",
       "      <td>0</td>\n",
       "      <td>0</td>\n",
       "      <td>de</td>\n",
       "      <td>t5_22i0</td>\n",
       "      <td>7/2/2020 11:04</td>\n",
       "      <td>t3_hjrzjq</td>\n",
       "      <td>public</td>\n",
       "      <td>both</td>\n",
       "      <td>both</td>\n",
       "    </tr>\n",
       "  </tbody>\n",
       "</table>\n",
       "</div>"
      ],
      "text/plain": [
       "                        body  tinyB_imbal_pred  tinyB_bal_pred  BERT_pred  \\\n",
       "0  lunik war eine tolle band                 0               1          1   \n",
       "\n",
       "   distilB_pred  HK Blind Label  Lorinda  Tom subreddit subreddit_id  \\\n",
       "0             0               0        0    0        de      t5_22i0   \n",
       "\n",
       "      created_utc  parent_id subreddit_type merge_tl merge_hk  \n",
       "0  7/2/2020 11:04  t3_hjrzjq         public     both     both  "
      ]
     },
     "execution_count": 96,
     "metadata": {},
     "output_type": "execute_result"
    }
   ],
   "source": [
    "after_sample_one_500.head(1)"
   ]
  },
  {
   "cell_type": "code",
   "execution_count": 98,
   "id": "f09689b6-b19e-4a0c-a73c-c07a72da0913",
   "metadata": {},
   "outputs": [
    {
     "data": {
      "text/html": [
       "<div>\n",
       "<style scoped>\n",
       "    .dataframe tbody tr th:only-of-type {\n",
       "        vertical-align: middle;\n",
       "    }\n",
       "\n",
       "    .dataframe tbody tr th {\n",
       "        vertical-align: top;\n",
       "    }\n",
       "\n",
       "    .dataframe thead th {\n",
       "        text-align: right;\n",
       "    }\n",
       "</style>\n",
       "<table border=\"1\" class=\"dataframe\">\n",
       "  <thead>\n",
       "    <tr style=\"text-align: right;\">\n",
       "      <th></th>\n",
       "      <th>body</th>\n",
       "      <th>TinyBert Imbalanced</th>\n",
       "      <th>TinyBert Balanced</th>\n",
       "      <th>BERT Imbalanced</th>\n",
       "      <th>distilBERT Ethos</th>\n",
       "      <th>H Koizumi</th>\n",
       "      <th>L Couch</th>\n",
       "      <th>T Lever</th>\n",
       "      <th>subreddit</th>\n",
       "    </tr>\n",
       "  </thead>\n",
       "  <tbody>\n",
       "    <tr>\n",
       "      <th>0</th>\n",
       "      <td>lunik war eine tolle band</td>\n",
       "      <td>0</td>\n",
       "      <td>1</td>\n",
       "      <td>1</td>\n",
       "      <td>0</td>\n",
       "      <td>0</td>\n",
       "      <td>0</td>\n",
       "      <td>0</td>\n",
       "      <td>de</td>\n",
       "    </tr>\n",
       "  </tbody>\n",
       "</table>\n",
       "</div>"
      ],
      "text/plain": [
       "                        body  TinyBert Imbalanced  TinyBert Balanced  \\\n",
       "0  lunik war eine tolle band                    0                  1   \n",
       "\n",
       "   BERT Imbalanced  distilBERT Ethos  H Koizumi  L Couch  T Lever subreddit  \n",
       "0                1                 0          0        0        0        de  "
      ]
     },
     "execution_count": 98,
     "metadata": {},
     "output_type": "execute_result"
    }
   ],
   "source": [
    "# Rename columns for clarity\n",
    "after_sample_one_500 = after_sample_one_500.rename(columns={'tinyB_imbal_pred':'TinyBert Imbalanced', 'tinyB_bal_pred': 'TinyBert Balanced', \n",
    "                                        'BERT_pred': 'BERT Imbalanced', 'distilB_pred':'distilBERT Ethos', 'HK Blind Label':'H Koizumi', 'Tom': 'T Lever', 'Lorinda': 'L Couch'})\n",
    "after_sample_one_matrix = after_sample_one_500.drop(columns={'subreddit_id','created_utc', 'parent_id', 'subreddit_type','merge_tl','merge_hk'})\n",
    "after_sample_one_matrix['L Couch'] = after_sample_one_matrix['L Couch'].astype(int)\n",
    "after_sample_one_matrix.head(1)"
   ]
  },
  {
   "cell_type": "code",
   "execution_count": 100,
   "id": "c1161db0-d5f9-4b68-86ad-dcaff34554b8",
   "metadata": {
    "tags": []
   },
   "outputs": [
    {
     "data": {
      "text/html": [
       "<div>\n",
       "<style scoped>\n",
       "    .dataframe tbody tr th:only-of-type {\n",
       "        vertical-align: middle;\n",
       "    }\n",
       "\n",
       "    .dataframe tbody tr th {\n",
       "        vertical-align: top;\n",
       "    }\n",
       "\n",
       "    .dataframe thead th {\n",
       "        text-align: right;\n",
       "    }\n",
       "</style>\n",
       "<table border=\"1\" class=\"dataframe\">\n",
       "  <thead>\n",
       "    <tr style=\"text-align: right;\">\n",
       "      <th></th>\n",
       "      <th>body</th>\n",
       "      <th>TinyBert Imbalanced</th>\n",
       "      <th>TinyBert Balanced</th>\n",
       "      <th>BERT Imbalanced</th>\n",
       "      <th>distilBERT Ethos</th>\n",
       "      <th>H Koizumi</th>\n",
       "      <th>L Couch</th>\n",
       "      <th>T Lever</th>\n",
       "      <th>subreddit</th>\n",
       "    </tr>\n",
       "  </thead>\n",
       "  <tbody>\n",
       "    <tr>\n",
       "      <th>body</th>\n",
       "      <td>1.0</td>\n",
       "      <td>0.0</td>\n",
       "      <td>0.0</td>\n",
       "      <td>0.0</td>\n",
       "      <td>0.0</td>\n",
       "      <td>0.0</td>\n",
       "      <td>0.0</td>\n",
       "      <td>0.0</td>\n",
       "      <td>0.0</td>\n",
       "    </tr>\n",
       "    <tr>\n",
       "      <th>TinyBert Imbalanced</th>\n",
       "      <td>0.0</td>\n",
       "      <td>1.0</td>\n",
       "      <td>0.604888</td>\n",
       "      <td>0.95723</td>\n",
       "      <td>0.930754</td>\n",
       "      <td>0.95723</td>\n",
       "      <td>0.934827</td>\n",
       "      <td>0.928717</td>\n",
       "      <td>0.0</td>\n",
       "    </tr>\n",
       "    <tr>\n",
       "      <th>TinyBert Balanced</th>\n",
       "      <td>0.0</td>\n",
       "      <td>0.604888</td>\n",
       "      <td>1.0</td>\n",
       "      <td>0.606925</td>\n",
       "      <td>0.584521</td>\n",
       "      <td>0.570265</td>\n",
       "      <td>0.596741</td>\n",
       "      <td>0.570265</td>\n",
       "      <td>0.0</td>\n",
       "    </tr>\n",
       "    <tr>\n",
       "      <th>BERT Imbalanced</th>\n",
       "      <td>0.0</td>\n",
       "      <td>0.95723</td>\n",
       "      <td>0.606925</td>\n",
       "      <td>1.0</td>\n",
       "      <td>0.93279</td>\n",
       "      <td>0.955193</td>\n",
       "      <td>0.94501</td>\n",
       "      <td>0.934827</td>\n",
       "      <td>0.0</td>\n",
       "    </tr>\n",
       "    <tr>\n",
       "      <th>distilBERT Ethos</th>\n",
       "      <td>0.0</td>\n",
       "      <td>0.930754</td>\n",
       "      <td>0.584521</td>\n",
       "      <td>0.93279</td>\n",
       "      <td>1.0</td>\n",
       "      <td>0.965377</td>\n",
       "      <td>0.942974</td>\n",
       "      <td>0.928717</td>\n",
       "      <td>0.0</td>\n",
       "    </tr>\n",
       "    <tr>\n",
       "      <th>H Koizumi</th>\n",
       "      <td>0.0</td>\n",
       "      <td>0.95723</td>\n",
       "      <td>0.570265</td>\n",
       "      <td>0.955193</td>\n",
       "      <td>0.965377</td>\n",
       "      <td>1.0</td>\n",
       "      <td>0.953157</td>\n",
       "      <td>0.959267</td>\n",
       "      <td>0.0</td>\n",
       "    </tr>\n",
       "    <tr>\n",
       "      <th>L Couch</th>\n",
       "      <td>0.0</td>\n",
       "      <td>0.934827</td>\n",
       "      <td>0.596741</td>\n",
       "      <td>0.94501</td>\n",
       "      <td>0.942974</td>\n",
       "      <td>0.953157</td>\n",
       "      <td>1.0</td>\n",
       "      <td>0.936864</td>\n",
       "      <td>0.0</td>\n",
       "    </tr>\n",
       "    <tr>\n",
       "      <th>T Lever</th>\n",
       "      <td>0.0</td>\n",
       "      <td>0.928717</td>\n",
       "      <td>0.570265</td>\n",
       "      <td>0.934827</td>\n",
       "      <td>0.928717</td>\n",
       "      <td>0.959267</td>\n",
       "      <td>0.936864</td>\n",
       "      <td>1.0</td>\n",
       "      <td>0.0</td>\n",
       "    </tr>\n",
       "    <tr>\n",
       "      <th>subreddit</th>\n",
       "      <td>0.0</td>\n",
       "      <td>0.0</td>\n",
       "      <td>0.0</td>\n",
       "      <td>0.0</td>\n",
       "      <td>0.0</td>\n",
       "      <td>0.0</td>\n",
       "      <td>0.0</td>\n",
       "      <td>0.0</td>\n",
       "      <td>1.0</td>\n",
       "    </tr>\n",
       "  </tbody>\n",
       "</table>\n",
       "</div>"
      ],
      "text/plain": [
       "                    body TinyBert Imbalanced TinyBert Balanced  \\\n",
       "body                 1.0                 0.0               0.0   \n",
       "TinyBert Imbalanced  0.0                 1.0          0.604888   \n",
       "TinyBert Balanced    0.0            0.604888               1.0   \n",
       "BERT Imbalanced      0.0             0.95723          0.606925   \n",
       "distilBERT Ethos     0.0            0.930754          0.584521   \n",
       "H Koizumi            0.0             0.95723          0.570265   \n",
       "L Couch              0.0            0.934827          0.596741   \n",
       "T Lever              0.0            0.928717          0.570265   \n",
       "subreddit            0.0                 0.0               0.0   \n",
       "\n",
       "                    BERT Imbalanced distilBERT Ethos H Koizumi   L Couch  \\\n",
       "body                            0.0              0.0       0.0       0.0   \n",
       "TinyBert Imbalanced         0.95723         0.930754   0.95723  0.934827   \n",
       "TinyBert Balanced          0.606925         0.584521  0.570265  0.596741   \n",
       "BERT Imbalanced                 1.0          0.93279  0.955193   0.94501   \n",
       "distilBERT Ethos            0.93279              1.0  0.965377  0.942974   \n",
       "H Koizumi                  0.955193         0.965377       1.0  0.953157   \n",
       "L Couch                     0.94501         0.942974  0.953157       1.0   \n",
       "T Lever                    0.934827         0.928717  0.959267  0.936864   \n",
       "subreddit                       0.0              0.0       0.0       0.0   \n",
       "\n",
       "                      T Lever subreddit  \n",
       "body                      0.0       0.0  \n",
       "TinyBert Imbalanced  0.928717       0.0  \n",
       "TinyBert Balanced    0.570265       0.0  \n",
       "BERT Imbalanced      0.934827       0.0  \n",
       "distilBERT Ethos     0.928717       0.0  \n",
       "H Koizumi            0.959267       0.0  \n",
       "L Couch              0.936864       0.0  \n",
       "T Lever                   1.0       0.0  \n",
       "subreddit                 0.0       1.0  "
      ]
     },
     "execution_count": 100,
     "metadata": {},
     "output_type": "execute_result"
    }
   ],
   "source": [
    "# Function to calculate pairwise agreement between columns\n",
    "def pairwise_agreement(df):\n",
    "    columns = df.columns\n",
    "    agreement_df = pd.DataFrame(index=columns, columns=columns)\n",
    "    \n",
    "    for col1 in columns:\n",
    "        for col2 in columns:\n",
    "            agreement_df.loc[col1, col2] = (df[col1] == df[col2]).mean()\n",
    "            \n",
    "    return agreement_df\n",
    "\n",
    "# Calculate pairwise agreement\n",
    "consistency_matrix_after = pairwise_agreement(after_sample_one_matrix.dropna())\n",
    "consistency_matrix_after"
   ]
  },
  {
   "cell_type": "code",
   "execution_count": 102,
   "id": "9b985985-e0f2-42f4-b31b-9932b5cd69a3",
   "metadata": {},
   "outputs": [
    {
     "data": {
      "image/png": "[encoded data removed]",
      "text/plain": [
       "<Figure size 1500x800 with 8 Axes>"
      ]
     },
     "metadata": {},
     "output_type": "display_data"
    }
   ],
   "source": [
    "# Exclude the 'body' and 'subreddit' columns from matrix\n",
    "model_columns = [col for col in consistency_matrix_after.columns if col not in ['body', 'subreddit']]\n",
    "filtered_matrix = consistency_matrix_after.loc[model_columns, model_columns]\n",
    "\n",
    "#https://networkx.org/documentation/stable/auto_examples/drawing/plot_custom_node_icons.html\n",
    "icons = {\n",
    "    'TinyBert Imbalanced': 'Huawei.png',   \n",
    "    'TinyBert Balanced': 'Huawei.png',\n",
    "    'BERT Imbalanced': 'google_icon.png',\n",
    "    'distilBERT Ethos': 'hf-logo.png',\n",
    "    'H Koizumi': 'HK.png',\n",
    "    'T Lever': 'tl.png',\n",
    "    'L Couch': 'lc.png',   \n",
    "    \n",
    "}\n",
    "\n",
    "# Load images\n",
    "images = {k: Image.open(fname) for k, fname in icons.items()}\n",
    "\n",
    "color_map = {\n",
    "    'TinyBert Imbalanced': '#ae76a3',   \n",
    "    'TinyBert Balanced': '#882e72',    \n",
    "    'BERT Imbalanced': '#5289c7',\n",
    "    'distilBERT Ethos': '#4eb265',\n",
    "    'H Koizumi': '#fb9a29',\n",
    "    'T Lever': '#ec7014',\n",
    "    'L Couch': '#cc4c02',   \n",
    "}\n",
    "\n",
    "\n",
    "G = nx.Graph()\n",
    "\n",
    "# Add nodes and edges with weights\n",
    "for i, model1 in enumerate(filtered_matrix.columns):\n",
    "    for j, model2 in enumerate(filtered_matrix.columns):\n",
    "        if i < j:\n",
    "            weight = filtered_matrix.loc[model1, model2]\n",
    "            if weight > 0.5:  # Thresholding to only show stronger agreements\n",
    "                G.add_edge(model1, model2, weight=weight)\n",
    "\n",
    "\n",
    "for node in G.nodes():\n",
    "    G.nodes[node]['image'] = images[node]\n",
    "    \n",
    "plt.figure(figsize=(15,8)) #facecolor = 'lightblue'\n",
    "plt.title('Prediction Relationships After Policy Change\\nbetween Models & Team Members', \n",
    "          fontsize=20, fontweight='bold')\n",
    "\n",
    "pos = nx.spring_layout(G, seed = 44)  \n",
    "\n",
    "# Offset for labels \n",
    "label_offset_y = -0.1  \n",
    "\n",
    "# Modified label positions\n",
    "label_pos = {node: (pos[node][0], pos[node][1] - label_offset_y) for node in G.nodes()}\n",
    "\n",
    "# Draw network without nodes \n",
    "edge_weights = np.array([G[u][v]['weight'] for u, v in G.edges()])\n",
    "weights = np.array([G[u][v]['weight'] for u, v in G.edges()])\n",
    "normalized_weights = (weights - min(weights)) / (max(weights) - min(weights))\n",
    "enhanced_weights = normalized_weights *2\n",
    "\n",
    "edge_colors = [color_map[u] for u, v in G.edges()]  # Use the color_map for edge colors\n",
    "\n",
    "# Transform coordinates for placing images)\n",
    "ax = plt.gca()\n",
    "ax.set_facecolor('#DDDDDD') \n",
    "fig = plt.gcf()\n",
    "trans = ax.transData.transform\n",
    "trans_fig = fig.transFigure.inverted().transform\n",
    "\n",
    "nx.draw_networkx_edges(G, pos, edge_color=edge_colors, width=enhanced_weights, ax=ax)\n",
    "nx.draw_networkx_labels(G, label_pos, font_size=14, font_weight = 'bold', ax=ax)\n",
    "\n",
    "# image size\n",
    "size = 0.06  \n",
    "\n",
    "# Draw images last so that they are on top, with a higher zorder to ensure visibility\n",
    "for node in G.nodes():\n",
    "    image = G.nodes[node]['image']\n",
    "    (x, y) = pos[node]\n",
    "    xx, yy = trans((x, y))  # data to display coordinates\n",
    "    xa, ya = trans_fig((xx, yy))  # display to figure coordinates\n",
    "    a = plt.axes([xa - size/2.0, ya - size/2.0, size, size], zorder=3)\n",
    "    a.imshow(image)\n",
    "    a.set_aspect('equal')\n",
    "    a.axis('off')\n",
    "    \n",
    "# edge colors     \n",
    "nx.draw_networkx_edges(G, pos, edgelist=G.edges(), width=weights * 5, edge_color=edge_colors, ax=ax)\n",
    "\n",
    "# Display graph\n",
    "plt.axis('off') \n",
    "plt.savefig('network_before.png')\n",
    "plt.show()"
   ]
  },
  {
   "cell_type": "markdown",
   "id": "cb1b5b75-5414-4678-9963-cd187aa8e0cd",
   "metadata": {},
   "source": [
    "### Agreement Between Models/Team Members Viz"
   ]
  },
  {
   "cell_type": "code",
   "execution_count": 174,
   "id": "36794185-857b-4903-b155-093ca2818472",
   "metadata": {
    "tags": []
   },
   "outputs": [
    {
     "data": {
      "text/html": [
       "<div>\n",
       "<style scoped>\n",
       "    .dataframe tbody tr th:only-of-type {\n",
       "        vertical-align: middle;\n",
       "    }\n",
       "\n",
       "    .dataframe tbody tr th {\n",
       "        vertical-align: top;\n",
       "    }\n",
       "\n",
       "    .dataframe thead th {\n",
       "        text-align: right;\n",
       "    }\n",
       "</style>\n",
       "<table border=\"1\" class=\"dataframe\">\n",
       "  <thead>\n",
       "    <tr style=\"text-align: right;\">\n",
       "      <th></th>\n",
       "      <th>Number of Models Agreeing</th>\n",
       "      <th>Count</th>\n",
       "    </tr>\n",
       "  </thead>\n",
       "  <tbody>\n",
       "    <tr>\n",
       "      <th>0</th>\n",
       "      <td>0</td>\n",
       "      <td>521</td>\n",
       "    </tr>\n",
       "    <tr>\n",
       "      <th>1</th>\n",
       "      <td>1</td>\n",
       "      <td>339</td>\n",
       "    </tr>\n",
       "    <tr>\n",
       "      <th>2</th>\n",
       "      <td>2</td>\n",
       "      <td>76</td>\n",
       "    </tr>\n",
       "    <tr>\n",
       "      <th>3</th>\n",
       "      <td>3</td>\n",
       "      <td>23</td>\n",
       "    </tr>\n",
       "    <tr>\n",
       "      <th>4</th>\n",
       "      <td>4</td>\n",
       "      <td>22</td>\n",
       "    </tr>\n",
       "    <tr>\n",
       "      <th>5</th>\n",
       "      <td>5</td>\n",
       "      <td>9</td>\n",
       "    </tr>\n",
       "    <tr>\n",
       "      <th>6</th>\n",
       "      <td>6</td>\n",
       "      <td>1</td>\n",
       "    </tr>\n",
       "  </tbody>\n",
       "</table>\n",
       "</div>"
      ],
      "text/plain": [
       "   Number of Models Agreeing  Count\n",
       "0                          0    521\n",
       "1                          1    339\n",
       "2                          2     76\n",
       "3                          3     23\n",
       "4                          4     22\n",
       "5                          5      9\n",
       "6                          6      1"
      ]
     },
     "execution_count": 174,
     "metadata": {},
     "output_type": "execute_result"
    }
   ],
   "source": [
    "# Create list of model prediction columns\n",
    "model_columns = ['TinyBert Imbalanced', 'TinyBert Balanced', 'BERT Imbalanced', 'distilBERT Ethos', 'H Koizumi', 'T Lever', 'L Couch']\n",
    "\n",
    "# Sum predictions across model columns for each row\n",
    "all_sample['sum_predictions'] = all_sample[model_columns].sum(axis=1)\n",
    "\n",
    "# Count frequency of each sum \n",
    "agreement_counts = all_sample['sum_predictions'].value_counts().sort_index()\n",
    "\n",
    "# Convert Series to DataFrame \n",
    "agreement_counts_df = agreement_counts.reset_index()\n",
    "agreement_counts_df.columns = ['Number of Models Agreeing', 'Count']\n",
    "\n",
    "# Display results\n",
    "agreement_counts_df"
   ]
  },
  {
   "cell_type": "code",
   "execution_count": 106,
   "id": "a39b6bd8-3ce6-42d3-a473-e6af19258b9d",
   "metadata": {
    "tags": []
   },
   "outputs": [
    {
     "data": {
      "image/png": "[encoded data removed]",
      "text/plain": [
       "<Figure size 1000x600 with 1 Axes>"
      ]
     },
     "metadata": {},
     "output_type": "display_data"
    }
   ],
   "source": [
    "# Plotting bar chart\n",
    "plt.figure(figsize=(10, 6))\n",
    "barplot = sns.barplot(x='Number of Models Agreeing', y='Count', data=agreement_counts_df)\n",
    "\n",
    "# Add labels and title \n",
    "plt.xlabel('Number of Models Agreeing on Hate Speech')\n",
    "plt.ylabel('Count of Occurrences')\n",
    "plt.title('Agreement Count Across Models\\nBefore Policy Change')\n",
    "\n",
    "# Add count above the bars\n",
    "for p in barplot.patches:\n",
    "    barplot.annotate(format(p.get_height(), '.0f'),  # Format count as a whole number\n",
    "                     (p.get_x() + p.get_width() / 2., p.get_height()),  # Position for annotation\n",
    "                     ha = 'center', va = 'center',\n",
    "                     xytext = (0, 9),  # The distance from top of bar to annotation\n",
    "                     textcoords = 'offset points')\n",
    "\n",
    "\n",
    "# Show plot\n",
    "plt.show()"
   ]
  },
  {
   "cell_type": "code",
   "execution_count": 108,
   "id": "b41b1e20-d45c-4195-8757-29e1f9115de2",
   "metadata": {
    "tags": []
   },
   "outputs": [],
   "source": [
    "# Save to csv\n",
    "before_sample_one_matrix.to_csv('before_sample_one_matrix.csv', index=False)"
   ]
  },
  {
   "cell_type": "code",
   "execution_count": 114,
   "id": "5565a4f7-592d-41d7-8ec1-867e0035b41f",
   "metadata": {
    "tags": []
   },
   "outputs": [],
   "source": [
    "# Save to csv\n",
    "after_sample_one_matrix.to_csv('after_sample_one_matrix.csv', index=False)"
   ]
  },
  {
   "cell_type": "code",
   "execution_count": 156,
   "id": "9e5bf3fd-2985-4443-88c8-ed86a5d49e91",
   "metadata": {},
   "outputs": [],
   "source": [
    "# Read both CSV files\n",
    "before_sample_one_matrix = pd.read_csv('before_sample_one_matrix.csv')\n",
    "after_sample_one_matrix = pd.read_csv('after_sample_one_matrix.csv')\n",
    "\n",
    "# Concatenate DataFrames\n",
    "all_sample_matrix= pd.concat([before_sample_one_matrix, after_sample_one_matrix], ignore_index=True)"
   ]
  },
  {
   "cell_type": "code",
   "execution_count": 158,
   "id": "3b7f99c5-179e-4a59-bc89-b90ddb767391",
   "metadata": {
    "tags": []
   },
   "outputs": [
    {
     "data": {
      "text/html": [
       "<div>\n",
       "<style scoped>\n",
       "    .dataframe tbody tr th:only-of-type {\n",
       "        vertical-align: middle;\n",
       "    }\n",
       "\n",
       "    .dataframe tbody tr th {\n",
       "        vertical-align: top;\n",
       "    }\n",
       "\n",
       "    .dataframe thead th {\n",
       "        text-align: right;\n",
       "    }\n",
       "</style>\n",
       "<table border=\"1\" class=\"dataframe\">\n",
       "  <thead>\n",
       "    <tr style=\"text-align: right;\">\n",
       "      <th></th>\n",
       "      <th>body</th>\n",
       "      <th>TinyBert Imbalanced</th>\n",
       "      <th>TinyBert Balanced</th>\n",
       "      <th>BERT Imbalanced</th>\n",
       "      <th>distilBERT Ethos</th>\n",
       "      <th>H Koizumi</th>\n",
       "      <th>T Lever</th>\n",
       "      <th>L Couch</th>\n",
       "      <th>subreddit</th>\n",
       "      <th>agreement_pattern</th>\n",
       "    </tr>\n",
       "  </thead>\n",
       "  <tbody>\n",
       "    <tr>\n",
       "      <th>0</th>\n",
       "      <td>0000 0047</td>\n",
       "      <td>0</td>\n",
       "      <td>0</td>\n",
       "      <td>0</td>\n",
       "      <td>0</td>\n",
       "      <td>0</td>\n",
       "      <td>0</td>\n",
       "      <td>0</td>\n",
       "      <td>pokemontrades</td>\n",
       "      <td></td>\n",
       "    </tr>\n",
       "    <tr>\n",
       "      <th>1</th>\n",
       "      <td>11aside allweather footballhockey pitch fiveas...</td>\n",
       "      <td>0</td>\n",
       "      <td>0</td>\n",
       "      <td>0</td>\n",
       "      <td>0</td>\n",
       "      <td>0</td>\n",
       "      <td>0</td>\n",
       "      <td>0</td>\n",
       "      <td>PictureGame</td>\n",
       "      <td></td>\n",
       "    </tr>\n",
       "    <tr>\n",
       "      <th>2</th>\n",
       "      <td>20x larger 3840x1920 version of linked image h...</td>\n",
       "      <td>0</td>\n",
       "      <td>0</td>\n",
       "      <td>0</td>\n",
       "      <td>0</td>\n",
       "      <td>0</td>\n",
       "      <td>0</td>\n",
       "      <td>0</td>\n",
       "      <td>ImaginaryBeingDerps</td>\n",
       "      <td></td>\n",
       "    </tr>\n",
       "    <tr>\n",
       "      <th>3</th>\n",
       "      <td>48 and 40 eu shoe size age idk 195cm and 170cm</td>\n",
       "      <td>0</td>\n",
       "      <td>1</td>\n",
       "      <td>0</td>\n",
       "      <td>0</td>\n",
       "      <td>0</td>\n",
       "      <td>0</td>\n",
       "      <td>0</td>\n",
       "      <td>tall</td>\n",
       "      <td>TinyBert Balanced</td>\n",
       "    </tr>\n",
       "    <tr>\n",
       "      <th>4</th>\n",
       "      <td>5 stars for your balls</td>\n",
       "      <td>1</td>\n",
       "      <td>1</td>\n",
       "      <td>1</td>\n",
       "      <td>0</td>\n",
       "      <td>0</td>\n",
       "      <td>0</td>\n",
       "      <td>0</td>\n",
       "      <td>Balls</td>\n",
       "      <td>TinyBert Imbalanced, TinyBert Balanced, BERT I...</td>\n",
       "    </tr>\n",
       "    <tr>\n",
       "      <th>...</th>\n",
       "      <td>...</td>\n",
       "      <td>...</td>\n",
       "      <td>...</td>\n",
       "      <td>...</td>\n",
       "      <td>...</td>\n",
       "      <td>...</td>\n",
       "      <td>...</td>\n",
       "      <td>...</td>\n",
       "      <td>...</td>\n",
       "      <td>...</td>\n",
       "    </tr>\n",
       "    <tr>\n",
       "      <th>986</th>\n",
       "      <td>oh i see honestly it was not that bad just ver...</td>\n",
       "      <td>0</td>\n",
       "      <td>0</td>\n",
       "      <td>0</td>\n",
       "      <td>0</td>\n",
       "      <td>0</td>\n",
       "      <td>0</td>\n",
       "      <td>0</td>\n",
       "      <td>eroticauthors</td>\n",
       "      <td></td>\n",
       "    </tr>\n",
       "    <tr>\n",
       "      <th>987</th>\n",
       "      <td>living the memes</td>\n",
       "      <td>0</td>\n",
       "      <td>0</td>\n",
       "      <td>0</td>\n",
       "      <td>0</td>\n",
       "      <td>0</td>\n",
       "      <td>0</td>\n",
       "      <td>0</td>\n",
       "      <td>AskReddit</td>\n",
       "      <td></td>\n",
       "    </tr>\n",
       "    <tr>\n",
       "      <th>988</th>\n",
       "      <td>did he even do anything interesting on jojos s...</td>\n",
       "      <td>0</td>\n",
       "      <td>0</td>\n",
       "      <td>0</td>\n",
       "      <td>0</td>\n",
       "      <td>0</td>\n",
       "      <td>0</td>\n",
       "      <td>0</td>\n",
       "      <td>thebachelor</td>\n",
       "      <td></td>\n",
       "    </tr>\n",
       "    <tr>\n",
       "      <th>989</th>\n",
       "      <td>sweet deal keep us updated do you mind if i as...</td>\n",
       "      <td>0</td>\n",
       "      <td>0</td>\n",
       "      <td>0</td>\n",
       "      <td>0</td>\n",
       "      <td>0</td>\n",
       "      <td>0</td>\n",
       "      <td>0</td>\n",
       "      <td>Datsun</td>\n",
       "      <td></td>\n",
       "    </tr>\n",
       "    <tr>\n",
       "      <th>990</th>\n",
       "      <td>oh shit i made a version of this the other day...</td>\n",
       "      <td>0</td>\n",
       "      <td>0</td>\n",
       "      <td>0</td>\n",
       "      <td>0</td>\n",
       "      <td>0</td>\n",
       "      <td>0</td>\n",
       "      <td>0</td>\n",
       "      <td>BlackPeopleTwitter</td>\n",
       "      <td></td>\n",
       "    </tr>\n",
       "  </tbody>\n",
       "</table>\n",
       "<p>991 rows × 10 columns</p>\n",
       "</div>"
      ],
      "text/plain": [
       "                                                  body  TinyBert Imbalanced  \\\n",
       "0                                            0000 0047                    0   \n",
       "1    11aside allweather footballhockey pitch fiveas...                    0   \n",
       "2    20x larger 3840x1920 version of linked image h...                    0   \n",
       "3       48 and 40 eu shoe size age idk 195cm and 170cm                    0   \n",
       "4                               5 stars for your balls                    1   \n",
       "..                                                 ...                  ...   \n",
       "986  oh i see honestly it was not that bad just ver...                    0   \n",
       "987                                   living the memes                    0   \n",
       "988  did he even do anything interesting on jojos s...                    0   \n",
       "989  sweet deal keep us updated do you mind if i as...                    0   \n",
       "990  oh shit i made a version of this the other day...                    0   \n",
       "\n",
       "     TinyBert Balanced  BERT Imbalanced  distilBERT Ethos  H Koizumi  T Lever  \\\n",
       "0                    0                0                 0          0        0   \n",
       "1                    0                0                 0          0        0   \n",
       "2                    0                0                 0          0        0   \n",
       "3                    1                0                 0          0        0   \n",
       "4                    1                1                 0          0        0   \n",
       "..                 ...              ...               ...        ...      ...   \n",
       "986                  0                0                 0          0        0   \n",
       "987                  0                0                 0          0        0   \n",
       "988                  0                0                 0          0        0   \n",
       "989                  0                0                 0          0        0   \n",
       "990                  0                0                 0          0        0   \n",
       "\n",
       "     L Couch            subreddit  \\\n",
       "0          0        pokemontrades   \n",
       "1          0          PictureGame   \n",
       "2          0  ImaginaryBeingDerps   \n",
       "3          0                 tall   \n",
       "4          0                Balls   \n",
       "..       ...                  ...   \n",
       "986        0        eroticauthors   \n",
       "987        0            AskReddit   \n",
       "988        0          thebachelor   \n",
       "989        0               Datsun   \n",
       "990        0   BlackPeopleTwitter   \n",
       "\n",
       "                                     agreement_pattern  \n",
       "0                                                       \n",
       "1                                                       \n",
       "2                                                       \n",
       "3                                    TinyBert Balanced  \n",
       "4    TinyBert Imbalanced, TinyBert Balanced, BERT I...  \n",
       "..                                                 ...  \n",
       "986                                                     \n",
       "987                                                     \n",
       "988                                                     \n",
       "989                                                     \n",
       "990                                                     \n",
       "\n",
       "[991 rows x 10 columns]"
      ]
     },
     "execution_count": 158,
     "metadata": {},
     "output_type": "execute_result"
    }
   ],
   "source": [
    "# Define model names\n",
    "model_names = ['TinyBert Imbalanced', 'TinyBert Balanced', 'BERT Imbalanced', 'distilBERT Ethos', 'H Koizumi', 'T Lever', 'L Couch']\n",
    "\n",
    "# Concatenate model names where the value is 1 into single string\n",
    "all_sample_matrix['agreement_pattern'] = all_sample_matrix[model_names].apply(\n",
    "    lambda row: ', '.join(model for model, value in zip(model_names, row) if value == 1),\n",
    "    axis=1\n",
    ")\n",
    "\n",
    "# Display DataFrame \n",
    "all_sample_matrix"
   ]
  },
  {
   "cell_type": "code",
   "execution_count": 160,
   "id": "2f921363-800a-4b83-a65c-9d5ef6b15580",
   "metadata": {
    "tags": []
   },
   "outputs": [],
   "source": [
    "# Define model names\n",
    "model_names = ['TinyBert Imbalanced', 'TinyBert Balanced', 'BERT Imbalanced', 'distilBERT Ethos', 'H Koizumi', 'T Lever', 'L Couch']\n",
    "\n",
    "# Create empty DataFrame with columns for each model\n",
    "binary_df = pd.DataFrame(columns=model_names)\n",
    "\n",
    "# Iterate through agreement patterns and populate binary DataFrame\n",
    "for pattern in all_sample_matrix['agreement_pattern']:\n",
    "    binary_row = []\n",
    "    for model in model_names:\n",
    "        binary_row.append(1 if model in pattern.split(', ') else 0)\n",
    "    binary_df.loc[len(binary_df)] = binary_row"
   ]
  },
  {
   "cell_type": "code",
   "execution_count": 162,
   "id": "13f5172a-5896-46ff-92f6-577a5f4474a9",
   "metadata": {},
   "outputs": [],
   "source": [
    "# sum values in each column to get count of agreements for each model\n",
    "pattern_counts = binary_df.sum()\n",
    "# convert to DataFrame \n",
    "pattern_counts_df = pattern_counts.reset_index()\n",
    "pattern_counts_df.columns = ['Model', 'Count']"
   ]
  },
  {
   "cell_type": "code",
   "execution_count": 170,
   "id": "02b5e0b4-0a79-49cd-9bde-51b34eff00f5",
   "metadata": {
    "tags": []
   },
   "outputs": [
    {
     "name": "stderr",
     "output_type": "stream",
     "text": [
      "C:\\Users\\Rhonda\\AppData\\Local\\Temp\\ipykernel_9424\\1594443211.py:6: FutureWarning: \n",
      "\n",
      "Passing `palette` without assigning `hue` is deprecated and will be removed in v0.14.0. Assign the `x` variable to `hue` and set `legend=False` for the same effect.\n",
      "\n",
      "  barplot = sns.barplot(x='Model', y='Count', data=pattern_counts_df, palette=\"viridis\")\n"
     ]
    },
    {
     "data": {
      "image/png": "[encoded data removed]",
      "text/plain": [
       "<Figure size 1000x600 with 1 Axes>"
      ]
     },
     "metadata": {},
     "output_type": "display_data"
    }
   ],
   "source": [
    "# Sort DataFrame based on 'Count' in descending order\n",
    "pattern_counts_df = pattern_counts_df.sort_values('Count', ascending=False)\n",
    "\n",
    "# create barplot \n",
    "plt.figure(figsize=(10, 6))\n",
    "barplot = sns.barplot(x='Model', y='Count', data=pattern_counts_df, palette=\"viridis\")\n",
    "\n",
    "# Add labels and title plt.ylabel('Count', fontsize = 16)\n",
    "plt.xlabel('Model or Team Member',fontsize = 16)\n",
    "plt.title('Total Count of Agreements per Model\\nIdentified Hate Speech in Reddit Submissions\\nBefore & After Policy Change', fontsize = 16)\n",
    "\n",
    "# Add count above  bars\n",
    "for p in barplot.patches:\n",
    "    barplot.annotate(format(p.get_height(), '.0f'),\n",
    "                     (p.get_x() + p.get_width() / 2., p.get_height()),\n",
    "                     ha='center', va='center',\n",
    "                     xytext=(0, 9),\n",
    "                     textcoords='offset points', fontsize =12)\n",
    "\n",
    "plt.xticks(rotation = 45, fontsize=14)\n",
    "plt.yticks(fontsize=14)\n",
    "\n",
    "# Save and show plot\n",
    "plt.savefig('bar_model_agree.png')\n",
    "plt.show()"
   ]
  },
  {
   "cell_type": "code",
   "execution_count": 166,
   "id": "e7972437-72d6-49ed-af50-5de18846788d",
   "metadata": {},
   "outputs": [],
   "source": [
    "# Initialize DataFrame to store co-occurrence counts\n",
    "co_occurrence_matrix = pd.DataFrame(np.zeros((len(model_names), len(model_names))), index=model_names, columns=model_names)\n",
    "\n",
    "# Calculate co-occurrence for each pair of models\n",
    "for i, model1 in enumerate(model_names):\n",
    "    for j, model2 in enumerate(model_names):\n",
    "        co_occurrence_matrix.loc[model1, model2] = np.sum(binary_df[model1] & binary_df[model2])\n",
    "\n",
    "#set the diagonal to NaN for visualization purposes\n",
    "np.fill_diagonal(co_occurrence_matrix.values, np.nan)"
   ]
  },
  {
   "cell_type": "code",
   "execution_count": 172,
   "id": "bdf137ea-6b89-4904-b129-1b973b296962",
   "metadata": {},
   "outputs": [
    {
     "data": {
      "image/png": "[encoded data removed]",
      "text/plain": [
       "<Figure size 1200x1000 with 2 Axes>"
      ]
     },
     "metadata": {},
     "output_type": "display_data"
    }
   ],
   "source": [
    "plt.figure(figsize=(12, 10))\n",
    "\n",
    "# Assign AxesSubplot object returned by sns.heatmap() to variable 'ax'\n",
    "ax = sns.heatmap(co_occurrence_matrix, annot=True, fmt='g', cmap='viridis_r',\n",
    "                 cbar_kws={'label': 'Agreement Count'},\n",
    "                annot_kws={'size':14})\n",
    "\n",
    "plt.title('Model Agreement Co-occurrence Matrix\\nBefore & After Policy Change', fontsize=16)\n",
    "plt.xlabel('Model or Team Member', fontsize=16)\n",
    "plt.ylabel('Model or Team Member', fontsize=16)\n",
    "plt.xticks(rotation=45, fontsize=14)\n",
    "plt.yticks(fontsize=14)\n",
    "cbar = ax.collections[0].colorbar\n",
    "cbar.ax.tick_params(labelsize=14)\n",
    "plt.savefig('heat_before.png')\n",
    "plt.show()"
   ]
  }
 ],
 "metadata": {
  "kernelspec": {
   "display_name": "Python 3 (ipykernel)",
   "language": "python",
   "name": "python3"
  },
  "language_info": {
   "codemirror_mode": {
    "name": "ipython",
    "version": 3
   },
   "file_extension": ".py",
   "mimetype": "text/x-python",
   "name": "python",
   "nbconvert_exporter": "python",
   "pygments_lexer": "ipython3",
   "version": "3.11.7"
  }
 },
 "nbformat": 4,
 "nbformat_minor": 5
}
